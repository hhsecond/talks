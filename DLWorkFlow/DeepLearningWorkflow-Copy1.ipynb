{
 "cells": [
  {
   "cell_type": "markdown",
   "metadata": {
    "colab_type": "text",
    "id": "JmymRLn7olYQ"
   },
   "source": [
    "# Deep Learning Workflow"
   ]
  },
  {
   "cell_type": "markdown",
   "metadata": {
    "colab_type": "text",
    "id": "957-mktQoqff"
   },
   "source": [
    "## Hangar"
   ]
  },
  {
   "cell_type": "code",
   "execution_count": 1,
   "metadata": {
    "colab": {
     "base_uri": "https://localhost:8080/",
     "height": 391
    },
    "colab_type": "code",
    "id": "-3NqcMbHn8gw",
    "outputId": "888675f3-0d82-4ed8-da0b-3b3d2cf2e5d6"
   },
   "outputs": [
    {
     "name": "stdout",
     "output_type": "stream",
     "text": [
      "Collecting git+https://github.com/tensorwerk/hangar-py\n",
      "  Cloning https://github.com/tensorwerk/hangar-py to /tmp/pip-req-build-p3abahcf\n",
      "  Running command git clone -q https://github.com/tensorwerk/hangar-py /tmp/pip-req-build-p3abahcf\n",
      "Requirement already satisfied (use --upgrade to upgrade): hangar==0.1.1 from git+https://github.com/tensorwerk/hangar-py in /home/hhsecond/anaconda3/envs/dlblr/lib/python3.7/site-packages\n",
      "Requirement already satisfied: click in /home/hhsecond/anaconda3/envs/dlblr/lib/python3.7/site-packages (from hangar==0.1.1) (7.0)\n",
      "Requirement already satisfied: lmdb==0.94 in /home/hhsecond/anaconda3/envs/dlblr/lib/python3.7/site-packages (from hangar==0.1.1) (0.94)\n",
      "Requirement already satisfied: h5py==2.9.0 in /home/hhsecond/anaconda3/envs/dlblr/lib/python3.7/site-packages (from hangar==0.1.1) (2.9.0)\n",
      "Requirement already satisfied: numpy in /home/hhsecond/anaconda3/envs/dlblr/lib/python3.7/site-packages (from hangar==0.1.1) (1.16.4)\n",
      "Requirement already satisfied: pyyaml in /home/hhsecond/anaconda3/envs/dlblr/lib/python3.7/site-packages (from hangar==0.1.1) (5.1.1)\n",
      "Requirement already satisfied: msgpack==0.6.1 in /home/hhsecond/anaconda3/envs/dlblr/lib/python3.7/site-packages (from hangar==0.1.1) (0.6.1)\n",
      "Requirement already satisfied: blosc in /home/hhsecond/anaconda3/envs/dlblr/lib/python3.7/site-packages (from hangar==0.1.1) (1.8.1)\n",
      "Requirement already satisfied: grpcio in /home/hhsecond/anaconda3/envs/dlblr/lib/python3.7/site-packages (from hangar==0.1.1) (1.21.1)\n",
      "Requirement already satisfied: grpcio_tools in /home/hhsecond/anaconda3/envs/dlblr/lib/python3.7/site-packages (from hangar==0.1.1) (1.21.1)\n",
      "Requirement already satisfied: tqdm in /home/hhsecond/anaconda3/envs/dlblr/lib/python3.7/site-packages (from hangar==0.1.1) (4.32.2)\n",
      "Requirement already satisfied: wrapt in /home/hhsecond/anaconda3/envs/dlblr/lib/python3.7/site-packages (from hangar==0.1.1) (1.11.2)\n",
      "Requirement already satisfied: six in /home/hhsecond/anaconda3/envs/dlblr/lib/python3.7/site-packages (from h5py==2.9.0->hangar==0.1.1) (1.12.0)\n",
      "Requirement already satisfied: protobuf>=3.5.0.post1 in /home/hhsecond/anaconda3/envs/dlblr/lib/python3.7/site-packages (from grpcio_tools->hangar==0.1.1) (3.8.0)\n",
      "Requirement already satisfied: setuptools in /home/hhsecond/anaconda3/envs/dlblr/lib/python3.7/site-packages (from protobuf>=3.5.0.post1->grpcio_tools->hangar==0.1.1) (41.0.1)\n",
      "Building wheels for collected packages: hangar\n",
      "  Building wheel for hangar (setup.py) ... \u001b[?25ldone\n",
      "\u001b[?25h  Stored in directory: /tmp/pip-ephem-wheel-cache-a5lhveud/wheels/41/92/9e/a01c44b33015b54b966237badb395ec6ff104b78676e83c1aa\n",
      "Successfully built hangar\n",
      "Requirement already satisfied: matplotlib in /home/hhsecond/anaconda3/envs/dlblr/lib/python3.7/site-packages (3.1.0)\n",
      "Requirement already satisfied: kiwisolver>=1.0.1 in /home/hhsecond/anaconda3/envs/dlblr/lib/python3.7/site-packages (from matplotlib) (1.1.0)\n",
      "Requirement already satisfied: numpy>=1.11 in /home/hhsecond/anaconda3/envs/dlblr/lib/python3.7/site-packages (from matplotlib) (1.16.4)\n",
      "Requirement already satisfied: pyparsing!=2.0.4,!=2.1.2,!=2.1.6,>=2.0.1 in /home/hhsecond/anaconda3/envs/dlblr/lib/python3.7/site-packages (from matplotlib) (2.4.0)\n",
      "Requirement already satisfied: python-dateutil>=2.1 in /home/hhsecond/anaconda3/envs/dlblr/lib/python3.7/site-packages (from matplotlib) (2.8.0)\n",
      "Requirement already satisfied: cycler>=0.10 in /home/hhsecond/anaconda3/envs/dlblr/lib/python3.7/site-packages (from matplotlib) (0.10.0)\n",
      "Requirement already satisfied: setuptools in /home/hhsecond/anaconda3/envs/dlblr/lib/python3.7/site-packages (from kiwisolver>=1.0.1->matplotlib) (41.0.1)\n",
      "Requirement already satisfied: six>=1.5 in /home/hhsecond/anaconda3/envs/dlblr/lib/python3.7/site-packages (from python-dateutil>=2.1->matplotlib) (1.12.0)\n"
     ]
    }
   ],
   "source": [
    "!pip install grpcio>=1.21.1\n",
    "!pip install git+https://github.com/tensorwerk/hangar-py\n",
    "!pip install matplotlib"
   ]
  },
  {
   "cell_type": "code",
   "execution_count": 2,
   "metadata": {
    "colab": {},
    "colab_type": "code",
    "id": "E6Kul_B8pBpk"
   },
   "outputs": [],
   "source": [
    "from hangar import Repository\n",
    "\n",
    "import numpy as np\n",
    "import pickle\n",
    "import gzip\n",
    "import matplotlib.pyplot as plt\n",
    "\n",
    "from tqdm import tqdm"
   ]
  },
  {
   "cell_type": "code",
   "execution_count": 3,
   "metadata": {
    "colab": {
     "base_uri": "https://localhost:8080/",
     "height": 68
    },
    "colab_type": "code",
    "id": "ozH8Dw6WqC4k",
    "outputId": "54db52a9-0450-4ad1-ce4d-d346ea1819c9"
   },
   "outputs": [
    {
     "name": "stdout",
     "output_type": "stream",
     "text": [
      "mkdir: cannot create directory ‘myhangarrepo’: File exists\n",
      "Hangar Repo initialized at: myhangarrepo/__hangar\n"
     ]
    },
    {
     "data": {
      "text/plain": [
       "'myhangarrepo/__hangar'"
      ]
     },
     "execution_count": 3,
     "metadata": {},
     "output_type": "execute_result"
    }
   ],
   "source": [
    "!mkdir myhangarrepo\n",
    "repo = Repository(path='myhangarrepo')\n",
    "repo.init(user_name='Sherin Thomas', user_email='sherin@gmail.com', remove_old=True)"
   ]
  },
  {
   "cell_type": "code",
   "execution_count": 4,
   "metadata": {
    "colab": {
     "base_uri": "https://localhost:8080/",
     "height": 85
    },
    "colab_type": "code",
    "id": "siC6_-FZqm6S",
    "outputId": "38c3fcca-66fd-4c13-f1cb-bf886ec4c9b3"
   },
   "outputs": [
    {
     "data": {
      "text/plain": [
       "            \n",
       " Hangar Repository            \n",
       "     Repository Path  : myhangarrepo/__hangar            \n",
       "     Writer-Lock Free : True\n"
      ]
     },
     "execution_count": 4,
     "metadata": {},
     "output_type": "execute_result"
    }
   ],
   "source": [
    "repo"
   ]
  },
  {
   "cell_type": "code",
   "execution_count": 5,
   "metadata": {
    "colab": {
     "base_uri": "https://localhost:8080/",
     "height": 34
    },
    "colab_type": "code",
    "id": "QLtXeXesq3pA",
    "outputId": "2285a143-9a91-4f7a-c21a-3ff7bd17952b"
   },
   "outputs": [
    {
     "data": {
      "text/plain": [
       "'myhangarrepo'"
      ]
     },
     "execution_count": 5,
     "metadata": {},
     "output_type": "execute_result"
    }
   ],
   "source": [
    "repo.writer_lock_held\n",
    "repo.repo_path"
   ]
  },
  {
   "cell_type": "code",
   "execution_count": 6,
   "metadata": {
    "colab": {},
    "colab_type": "code",
    "id": "qjNdOpEuq7tI"
   },
   "outputs": [],
   "source": [
    "# data link\n",
    "# https://drive.google.com/drive/folders/1zYdhNN4s5QnqGHRN632hXvfCt4OxsF0l?usp=sharing"
   ]
  },
  {
   "cell_type": "code",
   "execution_count": 7,
   "metadata": {
    "colab": {
     "base_uri": "https://localhost:8080/",
     "height": 34
    },
    "colab_type": "code",
    "id": "T-HEZ75734Gc",
    "outputId": "8d02af33-756c-461b-c485-6623adae5044"
   },
   "outputs": [
    {
     "data": {
      "text/plain": [
       "['data1.npy', 'target1.npy', 'data2.npy', 'target2.npy']"
      ]
     },
     "execution_count": 7,
     "metadata": {},
     "output_type": "execute_result"
    }
   ],
   "source": [
    "datapath = \"mnist_data\"\n",
    "import os\n",
    "os.listdir(datapath)\n"
   ]
  },
  {
   "cell_type": "code",
   "execution_count": 8,
   "metadata": {
    "colab": {},
    "colab_type": "code",
    "id": "AvjaDyVB6MWT"
   },
   "outputs": [],
   "source": [
    "target = np.load(os.path.join(datapath, 'target1.npy'))\n",
    "data = np.load(os.path.join(datapath, 'data1.npy'))"
   ]
  },
  {
   "cell_type": "code",
   "execution_count": 9,
   "metadata": {
    "colab": {
     "base_uri": "https://localhost:8080/",
     "height": 34
    },
    "colab_type": "code",
    "id": "DhCRAmRH6v9_",
    "outputId": "60f592a8-4426-4470-e306-054294dcc71d"
   },
   "outputs": [
    {
     "data": {
      "text/plain": [
       "((60000, 28, 28), (60000,))"
      ]
     },
     "execution_count": 9,
     "metadata": {},
     "output_type": "execute_result"
    }
   ],
   "source": [
    "data.shape, target.shape"
   ]
  },
  {
   "cell_type": "code",
   "execution_count": 10,
   "metadata": {
    "colab": {},
    "colab_type": "code",
    "id": "BPEE6PlT7Ra3"
   },
   "outputs": [],
   "source": [
    "co = repo.checkout(write=True)"
   ]
  },
  {
   "cell_type": "code",
   "execution_count": 11,
   "metadata": {
    "colab": {
     "base_uri": "https://localhost:8080/",
     "height": 51
    },
    "colab_type": "code",
    "id": "nkGhBL207w-E",
    "outputId": "1f078eef-4de2-41f4-e932-cb5c4b72b8d8"
   },
   "outputs": [
    {
     "name": "stdout",
     "output_type": "stream",
     "text": [
      "Dataset Specification:: Name: `mnist_data`, Initialization style: `provided`, Shape: `(28, 28)`, DType: `uint8`, Samples Named: `True`, Variable Shape: `False`, Max Shape: `(28, 28)`\n",
      "Dataset Initialized: `mnist_data`\n"
     ]
    }
   ],
   "source": [
    "data_dset = co.datasets.init_dataset('mnist_data', shape=(28, 28), dtype='uint8')"
   ]
  },
  {
   "cell_type": "code",
   "execution_count": 12,
   "metadata": {
    "colab": {
     "base_uri": "https://localhost:8080/",
     "height": 34
    },
    "colab_type": "code",
    "id": "KMBRM6NC8GmD",
    "outputId": "de50d22d-c580-42d8-f00a-b225c6d5911e"
   },
   "outputs": [
    {
     "data": {
      "text/plain": [
       "True"
      ]
     },
     "execution_count": 12,
     "metadata": {},
     "output_type": "execute_result"
    }
   ],
   "source": [
    "co.datasets['mnist_data'] == data_dset"
   ]
  },
  {
   "cell_type": "code",
   "execution_count": 13,
   "metadata": {
    "colab": {
     "base_uri": "https://localhost:8080/",
     "height": 51
    },
    "colab_type": "code",
    "id": "ead4ClkJ8brB",
    "outputId": "37d04356-6eca-4482-cd0a-466086b8ff21"
   },
   "outputs": [
    {
     "name": "stdout",
     "output_type": "stream",
     "text": [
      "Dataset Specification:: Name: `mnist_target`, Initialization style: `prototype`, Shape: `()`, DType: `int64`, Samples Named: `True`, Variable Shape: `False`, Max Shape: `()`\n",
      "Dataset Initialized: `mnist_target`\n"
     ]
    }
   ],
   "source": [
    "target_dset = co.datasets.init_dataset('mnist_target', prototype=target[0])"
   ]
  },
  {
   "cell_type": "code",
   "execution_count": 14,
   "metadata": {
    "colab": {
     "base_uri": "https://localhost:8080/",
     "height": 102
    },
    "colab_type": "code",
    "id": "h3W528TqAWFh",
    "outputId": "6418fd0e-6fe8-4ea7-b711-8e374c9e11c4"
   },
   "outputs": [
    {
     "name": "stdout",
     "output_type": "stream",
     "text": [
      "Commit operation requested with message: datasets init\n",
      "(437, 227, 437)\n",
      "removing all stage hash records\n",
      "Commit completed. Commit hash: bd266cddc8c97b79243add8f72842d4590a4fe01\n",
      "writer checkout of master closed\n"
     ]
    }
   ],
   "source": [
    "co.commit('datasets init')\n",
    "co.close()"
   ]
  },
  {
   "cell_type": "code",
   "execution_count": 15,
   "metadata": {
    "colab": {},
    "colab_type": "code",
    "id": "a3zR6cnOBeo1"
   },
   "outputs": [],
   "source": [
    "co = repo.checkout(write=True)\n",
    "data_dset = co.datasets['mnist_data']\n",
    "target_dset = co.datasets['mnist_target']"
   ]
  },
  {
   "cell_type": "code",
   "execution_count": 16,
   "metadata": {
    "colab": {
     "base_uri": "https://localhost:8080/",
     "height": 476
    },
    "colab_type": "code",
    "id": "msLE68rrt2il",
    "outputId": "ca7e9557-77b3-4896-879c-1a48ac7f8bd3"
   },
   "outputs": [
    {
     "name": "stdout",
     "output_type": "stream",
     "text": [
      "Commit operation requested with message: dataset curation: stage 1\n",
      "(7658229, 1876692, 65536)\n",
      "removing all stage hash records\n",
      "Commit completed. Commit hash: caa9df607e25e467814174a76b3d4341c72eebf2\n",
      "writer checkout of master closed\n"
     ]
    }
   ],
   "source": [
    "with data_dset, target_dset:  # You don't really need this CM if you are not worried about perf\n",
    "  for i in range(len(data)):\n",
    "    sample_name = str(i)\n",
    "    data_dset[sample_name] = data[i]\n",
    "    target_dset[sample_name] = np.array(target[i])\n",
    "co.commit('dataset curation: stage 1')\n",
    "co.close()"
   ]
  },
  {
   "cell_type": "code",
   "execution_count": 17,
   "metadata": {},
   "outputs": [
    {
     "name": "stdout",
     "output_type": "stream",
     "text": [
      " * Checking out BRANCH: master with current HEAD: caa9df607e25e467814174a76b3d4341c72eebf2\n"
     ]
    }
   ],
   "source": [
    "co = repo.checkout()\n",
    "dset = co.datasets['mnist_data']"
   ]
  },
  {
   "cell_type": "code",
   "execution_count": 18,
   "metadata": {},
   "outputs": [
    {
     "data": {
      "text/plain": [
       "True"
      ]
     },
     "execution_count": 18,
     "metadata": {},
     "output_type": "execute_result"
    }
   ],
   "source": [
    "'1' in dset"
   ]
  },
  {
   "cell_type": "code",
   "execution_count": 19,
   "metadata": {},
   "outputs": [
    {
     "data": {
      "text/plain": [
       "<generator object DatasetDataReader.keys at 0x7fec755ef930>"
      ]
     },
     "execution_count": 19,
     "metadata": {},
     "output_type": "execute_result"
    }
   ],
   "source": [
    "dset.keys()"
   ]
  },
  {
   "cell_type": "code",
   "execution_count": 20,
   "metadata": {},
   "outputs": [
    {
     "data": {
      "text/plain": [
       "(28, 28)"
      ]
     },
     "execution_count": 20,
     "metadata": {},
     "output_type": "execute_result"
    }
   ],
   "source": [
    "next(dset.values()).shape"
   ]
  },
  {
   "cell_type": "code",
   "execution_count": 21,
   "metadata": {},
   "outputs": [
    {
     "data": {
      "text/plain": [
       "\n",
       " Hangar DatasetDataReader                 \n",
       "    Dataset Name     : mnist_data                \n",
       "    Schema UUID      : 6aa5a456944811e9ac622ba9d94fed03                \n",
       "    Schema Hash      : ed0767935a22                \n",
       "    Variable Shape   : False                \n",
       "    (max) Shape      : (28, 28)                \n",
       "    Datatype         : <class 'numpy.uint8'>                \n",
       "    Named Samples    : True                \n",
       "    Access Mode      : r                \n",
       "    Num Samples      : 60000\n"
      ]
     },
     "execution_count": 21,
     "metadata": {},
     "output_type": "execute_result"
    }
   ],
   "source": [
    "dset"
   ]
  },
  {
   "cell_type": "code",
   "execution_count": 22,
   "metadata": {},
   "outputs": [
    {
     "name": "stdout",
     "output_type": "stream",
     "text": [
      "0\n"
     ]
    },
    {
     "data": {
      "image/png": "[encoded data removed]",
      "text/plain": [
       "<Figure size 432x288 with 1 Axes>"
      ]
     },
     "metadata": {
      "needs_background": "light"
     },
     "output_type": "display_data"
    }
   ],
   "source": [
    "for key, value in dset.items():\n",
    "    print(key)\n",
    "    plt.imshow(value)\n",
    "    break"
   ]
  },
  {
   "cell_type": "code",
   "execution_count": 23,
   "metadata": {},
   "outputs": [
    {
     "name": "stdout",
     "output_type": "stream",
     "text": [
      "* caa9df607e25e467814174a76b3d4341c72eebf2 (\u001b[1;31mmaster\u001b[m) : dataset curation: stage 1\n",
      "* bd266cddc8c97b79243add8f72842d4590a4fe01 : datasets init\n"
     ]
    }
   ],
   "source": [
    "repo.log()"
   ]
  },
  {
   "cell_type": "code",
   "execution_count": 24,
   "metadata": {},
   "outputs": [
    {
     "ename": "TypeError",
     "evalue": "'DatasetDataReader' object does not support item deletion",
     "output_type": "error",
     "traceback": [
      "\u001b[0;31m---------------------------------------------------------------------------\u001b[0m",
      "\u001b[0;31mTypeError\u001b[0m                                 Traceback (most recent call last)",
      "\u001b[0;32m<ipython-input-24-5162edc1681b>\u001b[0m in \u001b[0;36m<module>\u001b[0;34m\u001b[0m\n\u001b[0;32m----> 1\u001b[0;31m \u001b[0;32mdel\u001b[0m \u001b[0mdset\u001b[0m\u001b[0;34m[\u001b[0m\u001b[0;34m'1'\u001b[0m\u001b[0;34m]\u001b[0m\u001b[0;34m\u001b[0m\u001b[0;34m\u001b[0m\u001b[0m\n\u001b[0m",
      "\u001b[0;31mTypeError\u001b[0m: 'DatasetDataReader' object does not support item deletion"
     ]
    }
   ],
   "source": [
    "del dset['1']"
   ]
  },
  {
   "cell_type": "markdown",
   "metadata": {},
   "source": [
    "### Metadata"
   ]
  },
  {
   "cell_type": "code",
   "execution_count": null,
   "metadata": {},
   "outputs": [],
   "source": [
    "co = repo.checkout(write=True)\n",
    "co.metadata['DataSource'] = \"Sherin\"\n",
    "co.commit(\"Added source\")\n",
    "co.close()"
   ]
  },
  {
   "cell_type": "markdown",
   "metadata": {},
   "source": [
    "### Safety from python \"oddities\" is built in Hangar's very essense."
   ]
  },
  {
   "cell_type": "code",
   "execution_count": null,
   "metadata": {},
   "outputs": [],
   "source": [
    "co = repo.checkout(write=True)\n",
    "data_dset = co.datasets['mnist_data']\n",
    "co.close()\n",
    "data_dset['1']"
   ]
  },
  {
   "cell_type": "markdown",
   "metadata": {},
   "source": [
    "### What you put in is what you get out\n",
    "All data is hashed by cryptographically secure hash algorithms (blake2b with 20byte digest length)\n",
    "A commit is entirely self sufficient, and it's hash depends on the hash of previous references\n",
    "For performance reasons, data hash is only calculated / verified when:\n",
    "\n",
    "a sample is added to a dataset\n",
    "data is fetched from a remote repo\n",
    "data is sent to a remote repo\n",
    "During regular read access, data integrity is ensured via fletcher32 / crc32 checksums\n",
    "\n",
    "Backend store utilities provide well validated, trusted, and performant implementations"
   ]
  },
  {
   "cell_type": "markdown",
   "metadata": {},
   "source": [
    "## Branching & Merging\n",
    "- Time travel through the historical evolution of a dataset\n",
    "- Zero-cost Branching to enable exploratory analysis and collaboration\n",
    "- Cheap Merging to build datasets over time (with multiple collaborators)\n",
    "- Completely abstracted organization and management of data files on disk\n",
    "- Ability to only retrieve a small portion of the data (as needed) while still maintaining complete historical record\n",
    "- Ability to push and pull changes directly to collaborators or a central server (ie a truly distributed version control system)"
   ]
  },
  {
   "cell_type": "code",
   "execution_count": null,
   "metadata": {},
   "outputs": [],
   "source": [
    "repo.create_branch('stage2')"
   ]
  },
  {
   "cell_type": "code",
   "execution_count": null,
   "metadata": {},
   "outputs": [],
   "source": [
    "co2 = repo.checkout(branch_name='stage2', write=True)"
   ]
  },
  {
   "cell_type": "code",
   "execution_count": null,
   "metadata": {},
   "outputs": [],
   "source": [
    "target = np.load(os.path.join(datapath, 'target2.npy'))\n",
    "data = np.load(os.path.join(datapath, 'data2.npy'))\n",
    "target.shape, data.shape"
   ]
  },
  {
   "cell_type": "code",
   "execution_count": null,
   "metadata": {},
   "outputs": [],
   "source": [
    "with co2.datasets['mnist_data'] as ddset, co2.datasets['mnist_target'] as tdset:\n",
    "    current_index = len(ddset)\n",
    "    for i in range(len(data)):\n",
    "        sample_name = str(current_index + i)\n",
    "        ddset[sample_name] = data[i]\n",
    "        tdset[sample_name] = np.array(target[i])\n",
    "co2.metadata['DataSource'] = \"Somebody else\"\n",
    "co2.commit('Data curation: stage2')\n",
    "co2.close()"
   ]
  },
  {
   "cell_type": "code",
   "execution_count": null,
   "metadata": {},
   "outputs": [],
   "source": [
    "repo.list_branch_names()"
   ]
  },
  {
   "cell_type": "code",
   "execution_count": null,
   "metadata": {},
   "outputs": [],
   "source": [
    "repo.log(branch_name='stage2')"
   ]
  },
  {
   "cell_type": "code",
   "execution_count": null,
   "metadata": {},
   "outputs": [],
   "source": [
    "co = repo.checkout(write=True)"
   ]
  },
  {
   "cell_type": "code",
   "execution_count": null,
   "metadata": {},
   "outputs": [],
   "source": [
    "# Dummy commit to make the diversion\n",
    "co.metadata['RandomeKey'] = \"RandomValue\"\n",
    "co.commit(\"Dummy metadata\")"
   ]
  },
  {
   "cell_type": "code",
   "execution_count": null,
   "metadata": {},
   "outputs": [],
   "source": [
    "co.merge(\"Merging stage2\", dev_branch='stage2')"
   ]
  },
  {
   "cell_type": "code",
   "execution_count": null,
   "metadata": {},
   "outputs": [],
   "source": [
    "co.close()"
   ]
  },
  {
   "cell_type": "code",
   "execution_count": null,
   "metadata": {},
   "outputs": [],
   "source": [
    "repo.log()"
   ]
  },
  {
   "cell_type": "code",
   "execution_count": null,
   "metadata": {},
   "outputs": [],
   "source": [
    "repo._details()"
   ]
  },
  {
   "cell_type": "markdown",
   "metadata": {},
   "source": [
    "## PyTorch\n",
    "- Dynamic Graph\n",
    "- torch.nn\n",
    "- Datasets & Dataloaders\n",
    "- Training\n",
    "    - Autograd\n",
    "    - Optimization\n",
    "- Validation\n",
    "- Serializing"
   ]
  },
  {
   "cell_type": "code",
   "execution_count": 25,
   "metadata": {},
   "outputs": [
    {
     "ename": "ModuleNotFoundError",
     "evalue": "No module named 'torch'",
     "output_type": "error",
     "traceback": [
      "\u001b[0;31m---------------------------------------------------------------------------\u001b[0m",
      "\u001b[0;31mModuleNotFoundError\u001b[0m                       Traceback (most recent call last)",
      "\u001b[0;32m<ipython-input-25-eb42ca6e4af3>\u001b[0m in \u001b[0;36m<module>\u001b[0;34m\u001b[0m\n\u001b[0;32m----> 1\u001b[0;31m \u001b[0;32mimport\u001b[0m \u001b[0mtorch\u001b[0m\u001b[0;34m\u001b[0m\u001b[0;34m\u001b[0m\u001b[0m\n\u001b[0m",
      "\u001b[0;31mModuleNotFoundError\u001b[0m: No module named 'torch'"
     ]
    }
   ],
   "source": [
    "import torch"
   ]
  },
  {
   "cell_type": "code",
   "execution_count": null,
   "metadata": {},
   "outputs": [],
   "source": []
  }
 ],
 "metadata": {
  "colab": {
   "name": "DeepLearningWorkflow.ipynb",
   "provenance": [],
   "version": "0.3.2"
  },
  "kernelspec": {
   "display_name": "Python 3",
   "language": "python",
   "name": "python3"
  },
  "language_info": {
   "codemirror_mode": {
    "name": "ipython",
    "version": 3
   },
   "file_extension": ".py",
   "mimetype": "text/x-python",
   "name": "python",
   "nbconvert_exporter": "python",
   "pygments_lexer": "ipython3",
   "version": "3.7.3"
  }
 },
 "nbformat": 4,
 "nbformat_minor": 1
}
