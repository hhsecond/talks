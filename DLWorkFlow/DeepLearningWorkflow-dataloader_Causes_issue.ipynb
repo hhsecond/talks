{
 "cells": [
  {
   "cell_type": "markdown",
   "metadata": {
    "colab_type": "text",
    "id": "JmymRLn7olYQ"
   },
   "source": [
    "# Deep Learning Workflow"
   ]
  },
  {
   "cell_type": "markdown",
   "metadata": {
    "colab_type": "text",
    "id": "957-mktQoqff"
   },
   "source": [
    "## Hangar"
   ]
  },
  {
   "cell_type": "code",
   "execution_count": 1,
   "metadata": {
    "colab": {
     "base_uri": "https://localhost:8080/",
     "height": 391
    },
    "colab_type": "code",
    "id": "-3NqcMbHn8gw",
    "outputId": "888675f3-0d82-4ed8-da0b-3b3d2cf2e5d6"
   },
   "outputs": [
    {
     "name": "stdout",
     "output_type": "stream",
     "text": [
      "Collecting git+https://github.com/tensorwerk/hangar-py\n",
      "  Cloning https://github.com/tensorwerk/hangar-py to /tmp/pip-req-build-xpwqb0h3\n",
      "  Running command git clone -q https://github.com/tensorwerk/hangar-py /tmp/pip-req-build-xpwqb0h3\n",
      "Requirement already satisfied (use --upgrade to upgrade): hangar==0.1.1 from git+https://github.com/tensorwerk/hangar-py in /home/hhsecond/anaconda3/envs/dlblr/lib/python3.7/site-packages\n",
      "Requirement already satisfied: click in /home/hhsecond/anaconda3/envs/dlblr/lib/python3.7/site-packages (from hangar==0.1.1) (7.0)\n",
      "Requirement already satisfied: lmdb==0.94 in /home/hhsecond/anaconda3/envs/dlblr/lib/python3.7/site-packages (from hangar==0.1.1) (0.94)\n",
      "Requirement already satisfied: h5py==2.9.0 in /home/hhsecond/anaconda3/envs/dlblr/lib/python3.7/site-packages (from hangar==0.1.1) (2.9.0)\n",
      "Requirement already satisfied: numpy in /home/hhsecond/anaconda3/envs/dlblr/lib/python3.7/site-packages (from hangar==0.1.1) (1.16.4)\n",
      "Requirement already satisfied: pyyaml in /home/hhsecond/anaconda3/envs/dlblr/lib/python3.7/site-packages (from hangar==0.1.1) (5.1.1)\n",
      "Requirement already satisfied: msgpack==0.6.1 in /home/hhsecond/anaconda3/envs/dlblr/lib/python3.7/site-packages (from hangar==0.1.1) (0.6.1)\n",
      "Requirement already satisfied: blosc in /home/hhsecond/anaconda3/envs/dlblr/lib/python3.7/site-packages (from hangar==0.1.1) (1.8.1)\n",
      "Requirement already satisfied: grpcio in /home/hhsecond/anaconda3/envs/dlblr/lib/python3.7/site-packages (from hangar==0.1.1) (1.21.1)\n",
      "Requirement already satisfied: grpcio_tools in /home/hhsecond/anaconda3/envs/dlblr/lib/python3.7/site-packages (from hangar==0.1.1) (1.21.1)\n",
      "Requirement already satisfied: tqdm in /home/hhsecond/anaconda3/envs/dlblr/lib/python3.7/site-packages (from hangar==0.1.1) (4.32.2)\n",
      "Requirement already satisfied: wrapt in /home/hhsecond/anaconda3/envs/dlblr/lib/python3.7/site-packages (from hangar==0.1.1) (1.11.2)\n",
      "Requirement already satisfied: six in /home/hhsecond/anaconda3/envs/dlblr/lib/python3.7/site-packages (from h5py==2.9.0->hangar==0.1.1) (1.12.0)\n",
      "Requirement already satisfied: protobuf>=3.5.0.post1 in /home/hhsecond/anaconda3/envs/dlblr/lib/python3.7/site-packages (from grpcio_tools->hangar==0.1.1) (3.8.0)\n",
      "Requirement already satisfied: setuptools in /home/hhsecond/anaconda3/envs/dlblr/lib/python3.7/site-packages (from protobuf>=3.5.0.post1->grpcio_tools->hangar==0.1.1) (41.0.1)\n",
      "Building wheels for collected packages: hangar\n",
      "  Building wheel for hangar (setup.py) ... \u001b[?25ldone\n",
      "\u001b[?25h  Stored in directory: /tmp/pip-ephem-wheel-cache-cmuptmyn/wheels/41/92/9e/a01c44b33015b54b966237badb395ec6ff104b78676e83c1aa\n",
      "Successfully built hangar\n",
      "Requirement already satisfied: matplotlib in /home/hhsecond/anaconda3/envs/dlblr/lib/python3.7/site-packages (3.1.0)\n",
      "Requirement already satisfied: python-dateutil>=2.1 in /home/hhsecond/anaconda3/envs/dlblr/lib/python3.7/site-packages (from matplotlib) (2.8.0)\n",
      "Requirement already satisfied: pyparsing!=2.0.4,!=2.1.2,!=2.1.6,>=2.0.1 in /home/hhsecond/anaconda3/envs/dlblr/lib/python3.7/site-packages (from matplotlib) (2.4.0)\n",
      "Requirement already satisfied: numpy>=1.11 in /home/hhsecond/anaconda3/envs/dlblr/lib/python3.7/site-packages (from matplotlib) (1.16.4)\n",
      "Requirement already satisfied: cycler>=0.10 in /home/hhsecond/anaconda3/envs/dlblr/lib/python3.7/site-packages (from matplotlib) (0.10.0)\n",
      "Requirement already satisfied: kiwisolver>=1.0.1 in /home/hhsecond/anaconda3/envs/dlblr/lib/python3.7/site-packages (from matplotlib) (1.1.0)\n",
      "Requirement already satisfied: six>=1.5 in /home/hhsecond/anaconda3/envs/dlblr/lib/python3.7/site-packages (from python-dateutil>=2.1->matplotlib) (1.12.0)\n",
      "Requirement already satisfied: setuptools in /home/hhsecond/anaconda3/envs/dlblr/lib/python3.7/site-packages (from kiwisolver>=1.0.1->matplotlib) (41.0.1)\n"
     ]
    }
   ],
   "source": [
    "!pip install grpcio>=1.21.1\n",
    "!pip install git+https://github.com/tensorwerk/hangar-py\n",
    "!pip install matplotlib"
   ]
  },
  {
   "cell_type": "code",
   "execution_count": 2,
   "metadata": {
    "colab": {},
    "colab_type": "code",
    "id": "E6Kul_B8pBpk"
   },
   "outputs": [],
   "source": [
    "from hangar import Repository\n",
    "\n",
    "import numpy as np\n",
    "import pickle\n",
    "import gzip\n",
    "import matplotlib.pyplot as plt\n",
    "\n",
    "from tqdm import tqdm"
   ]
  },
  {
   "cell_type": "code",
   "execution_count": 3,
   "metadata": {
    "colab": {
     "base_uri": "https://localhost:8080/",
     "height": 68
    },
    "colab_type": "code",
    "id": "ozH8Dw6WqC4k",
    "outputId": "54db52a9-0450-4ad1-ce4d-d346ea1819c9"
   },
   "outputs": [
    {
     "name": "stdout",
     "output_type": "stream",
     "text": [
      "mkdir: cannot create directory ‘myhangarrepo’: File exists\n",
      "Hangar Repo initialized at: myhangarrepo/__hangar\n"
     ]
    },
    {
     "data": {
      "text/plain": [
       "'myhangarrepo/__hangar'"
      ]
     },
     "execution_count": 3,
     "metadata": {},
     "output_type": "execute_result"
    }
   ],
   "source": [
    "!mkdir myhangarrepo\n",
    "repo = Repository(path='myhangarrepo')\n",
    "repo.init(user_name='Sherin Thomas', user_email='sherin@gmail.com', remove_old=True)"
   ]
  },
  {
   "cell_type": "code",
   "execution_count": 4,
   "metadata": {
    "colab": {
     "base_uri": "https://localhost:8080/",
     "height": 85
    },
    "colab_type": "code",
    "id": "siC6_-FZqm6S",
    "outputId": "38c3fcca-66fd-4c13-f1cb-bf886ec4c9b3"
   },
   "outputs": [
    {
     "data": {
      "text/plain": [
       "            \n",
       " Hangar Repository            \n",
       "     Repository Path  : myhangarrepo/__hangar            \n",
       "     Writer-Lock Free : True\n"
      ]
     },
     "execution_count": 4,
     "metadata": {},
     "output_type": "execute_result"
    }
   ],
   "source": [
    "repo"
   ]
  },
  {
   "cell_type": "code",
   "execution_count": 5,
   "metadata": {
    "colab": {
     "base_uri": "https://localhost:8080/",
     "height": 34
    },
    "colab_type": "code",
    "id": "QLtXeXesq3pA",
    "outputId": "2285a143-9a91-4f7a-c21a-3ff7bd17952b"
   },
   "outputs": [
    {
     "data": {
      "text/plain": [
       "'myhangarrepo'"
      ]
     },
     "execution_count": 5,
     "metadata": {},
     "output_type": "execute_result"
    }
   ],
   "source": [
    "repo.writer_lock_held\n",
    "repo.repo_path"
   ]
  },
  {
   "cell_type": "code",
   "execution_count": 6,
   "metadata": {
    "colab": {},
    "colab_type": "code",
    "id": "qjNdOpEuq7tI"
   },
   "outputs": [],
   "source": [
    "# data link\n",
    "# https://drive.google.com/drive/folders/1zYdhNN4s5QnqGHRN632hXvfCt4OxsF0l?usp=sharing"
   ]
  },
  {
   "cell_type": "code",
   "execution_count": 7,
   "metadata": {
    "colab": {
     "base_uri": "https://localhost:8080/",
     "height": 34
    },
    "colab_type": "code",
    "id": "T-HEZ75734Gc",
    "outputId": "8d02af33-756c-461b-c485-6623adae5044"
   },
   "outputs": [
    {
     "data": {
      "text/plain": [
       "['data1.npy', 'target1.npy', 'data2.npy', 'target2.npy']"
      ]
     },
     "execution_count": 7,
     "metadata": {},
     "output_type": "execute_result"
    }
   ],
   "source": [
    "datapath = \"mnist_data\"\n",
    "import os\n",
    "os.listdir(datapath)\n"
   ]
  },
  {
   "cell_type": "code",
   "execution_count": 8,
   "metadata": {
    "colab": {},
    "colab_type": "code",
    "id": "AvjaDyVB6MWT"
   },
   "outputs": [],
   "source": [
    "target = np.load(os.path.join(datapath, 'target1.npy'))\n",
    "data = np.load(os.path.join(datapath, 'data1.npy'))"
   ]
  },
  {
   "cell_type": "code",
   "execution_count": 9,
   "metadata": {
    "colab": {
     "base_uri": "https://localhost:8080/",
     "height": 34
    },
    "colab_type": "code",
    "id": "DhCRAmRH6v9_",
    "outputId": "60f592a8-4426-4470-e306-054294dcc71d"
   },
   "outputs": [
    {
     "data": {
      "text/plain": [
       "((60000, 28, 28), (60000,))"
      ]
     },
     "execution_count": 9,
     "metadata": {},
     "output_type": "execute_result"
    }
   ],
   "source": [
    "data.shape, target.shape"
   ]
  },
  {
   "cell_type": "code",
   "execution_count": 10,
   "metadata": {
    "colab": {},
    "colab_type": "code",
    "id": "BPEE6PlT7Ra3"
   },
   "outputs": [],
   "source": [
    "co = repo.checkout(write=True)"
   ]
  },
  {
   "cell_type": "code",
   "execution_count": 11,
   "metadata": {
    "colab": {
     "base_uri": "https://localhost:8080/",
     "height": 51
    },
    "colab_type": "code",
    "id": "nkGhBL207w-E",
    "outputId": "1f078eef-4de2-41f4-e932-cb5c4b72b8d8"
   },
   "outputs": [
    {
     "name": "stdout",
     "output_type": "stream",
     "text": [
      "Dataset Specification:: Name: `mnist_data`, Initialization style: `provided`, Shape: `(28, 28)`, DType: `uint8`, Samples Named: `True`, Variable Shape: `False`, Max Shape: `(28, 28)`\n",
      "Dataset Initialized: `mnist_data`\n"
     ]
    }
   ],
   "source": [
    "data_dset = co.datasets.init_dataset('mnist_data', shape=(28, 28), dtype='uint8')"
   ]
  },
  {
   "cell_type": "code",
   "execution_count": 12,
   "metadata": {
    "colab": {
     "base_uri": "https://localhost:8080/",
     "height": 34
    },
    "colab_type": "code",
    "id": "KMBRM6NC8GmD",
    "outputId": "de50d22d-c580-42d8-f00a-b225c6d5911e"
   },
   "outputs": [
    {
     "data": {
      "text/plain": [
       "True"
      ]
     },
     "execution_count": 12,
     "metadata": {},
     "output_type": "execute_result"
    }
   ],
   "source": [
    "co.datasets['mnist_data'] == data_dset"
   ]
  },
  {
   "cell_type": "code",
   "execution_count": 13,
   "metadata": {
    "colab": {
     "base_uri": "https://localhost:8080/",
     "height": 51
    },
    "colab_type": "code",
    "id": "ead4ClkJ8brB",
    "outputId": "37d04356-6eca-4482-cd0a-466086b8ff21"
   },
   "outputs": [
    {
     "name": "stdout",
     "output_type": "stream",
     "text": [
      "Dataset Specification:: Name: `mnist_target`, Initialization style: `prototype`, Shape: `()`, DType: `int64`, Samples Named: `True`, Variable Shape: `False`, Max Shape: `()`\n",
      "Dataset Initialized: `mnist_target`\n"
     ]
    }
   ],
   "source": [
    "target_dset = co.datasets.init_dataset('mnist_target', prototype=target[0])"
   ]
  },
  {
   "cell_type": "code",
   "execution_count": 14,
   "metadata": {
    "colab": {
     "base_uri": "https://localhost:8080/",
     "height": 102
    },
    "colab_type": "code",
    "id": "h3W528TqAWFh",
    "outputId": "6418fd0e-6fe8-4ea7-b711-8e374c9e11c4"
   },
   "outputs": [
    {
     "name": "stdout",
     "output_type": "stream",
     "text": [
      "Commit operation requested with message: datasets init\n",
      "(437, 228, 437)\n",
      "removing all stage hash records\n",
      "Commit completed. Commit hash: 7244400052f8d27d31f0431fc8238a195d5bada4\n",
      "writer checkout of master closed\n"
     ]
    }
   ],
   "source": [
    "co.commit('datasets init')\n",
    "co.close()"
   ]
  },
  {
   "cell_type": "code",
   "execution_count": 15,
   "metadata": {
    "colab": {},
    "colab_type": "code",
    "id": "a3zR6cnOBeo1"
   },
   "outputs": [],
   "source": [
    "co = repo.checkout(write=True)\n",
    "data_dset = co.datasets['mnist_data']\n",
    "target_dset = co.datasets['mnist_target']"
   ]
  },
  {
   "cell_type": "code",
   "execution_count": 16,
   "metadata": {
    "colab": {
     "base_uri": "https://localhost:8080/",
     "height": 476
    },
    "colab_type": "code",
    "id": "msLE68rrt2il",
    "outputId": "ca7e9557-77b3-4896-879c-1a48ac7f8bd3"
   },
   "outputs": [
    {
     "name": "stderr",
     "output_type": "stream",
     "text": [
      "100%|██████████| 60000/60000 [00:14<00:00, 4226.50it/s]\n"
     ]
    },
    {
     "name": "stdout",
     "output_type": "stream",
     "text": [
      "Commit operation requested with message: dataset curation: stage 1\n",
      "(7658229, 1876692, 65536)\n",
      "removing all stage hash records\n",
      "Commit completed. Commit hash: 9a599a00e6a5a9815224f1a06bf13803b257ee52\n",
      "writer checkout of master closed\n"
     ]
    }
   ],
   "source": [
    "with data_dset, target_dset:  # You don't really need this CM if you are not worried about perf\n",
    "  for i in tqdm(range(len(data))):\n",
    "    sample_name = str(i)\n",
    "    data_dset[sample_name] = data[i]\n",
    "    target_dset[sample_name] = np.array(target[i])\n",
    "co.commit('dataset curation: stage 1')\n",
    "co.close()"
   ]
  },
  {
   "cell_type": "code",
   "execution_count": 17,
   "metadata": {},
   "outputs": [
    {
     "name": "stdout",
     "output_type": "stream",
     "text": [
      " * Checking out BRANCH: master with current HEAD: 9a599a00e6a5a9815224f1a06bf13803b257ee52\n"
     ]
    }
   ],
   "source": [
    "co = repo.checkout()\n",
    "dset = co.datasets['mnist_data']"
   ]
  },
  {
   "cell_type": "code",
   "execution_count": 18,
   "metadata": {},
   "outputs": [
    {
     "data": {
      "text/plain": [
       "True"
      ]
     },
     "execution_count": 18,
     "metadata": {},
     "output_type": "execute_result"
    }
   ],
   "source": [
    "'1' in dset"
   ]
  },
  {
   "cell_type": "code",
   "execution_count": 19,
   "metadata": {},
   "outputs": [
    {
     "data": {
      "text/plain": [
       "<generator object DatasetDataReader.keys at 0x7f7461fcfde0>"
      ]
     },
     "execution_count": 19,
     "metadata": {},
     "output_type": "execute_result"
    }
   ],
   "source": [
    "dset.keys()"
   ]
  },
  {
   "cell_type": "code",
   "execution_count": 20,
   "metadata": {},
   "outputs": [
    {
     "data": {
      "text/plain": [
       "(28, 28)"
      ]
     },
     "execution_count": 20,
     "metadata": {},
     "output_type": "execute_result"
    }
   ],
   "source": [
    "next(dset.values()).shape"
   ]
  },
  {
   "cell_type": "code",
   "execution_count": 21,
   "metadata": {},
   "outputs": [
    {
     "data": {
      "text/plain": [
       "\n",
       " Hangar DatasetDataReader                 \n",
       "    Dataset Name     : mnist_data                \n",
       "    Schema UUID      : ec9663cc944f11e9aeb3eb735c65f17e                \n",
       "    Schema Hash      : ed0767935a22                \n",
       "    Variable Shape   : False                \n",
       "    (max) Shape      : (28, 28)                \n",
       "    Datatype         : <class 'numpy.uint8'>                \n",
       "    Named Samples    : True                \n",
       "    Access Mode      : r                \n",
       "    Num Samples      : 60000\n"
      ]
     },
     "execution_count": 21,
     "metadata": {},
     "output_type": "execute_result"
    }
   ],
   "source": [
    "dset"
   ]
  },
  {
   "cell_type": "code",
   "execution_count": 22,
   "metadata": {},
   "outputs": [
    {
     "name": "stdout",
     "output_type": "stream",
     "text": [
      "0\n"
     ]
    },
    {
     "data": {
      "image/png": "[encoded data removed]",
      "text/plain": [
       "<Figure size 432x288 with 1 Axes>"
      ]
     },
     "metadata": {
      "needs_background": "light"
     },
     "output_type": "display_data"
    }
   ],
   "source": [
    "for key, value in dset.items():\n",
    "    print(key)\n",
    "    plt.imshow(value)\n",
    "    break"
   ]
  },
  {
   "cell_type": "code",
   "execution_count": 23,
   "metadata": {},
   "outputs": [
    {
     "name": "stdout",
     "output_type": "stream",
     "text": [
      "* 9a599a00e6a5a9815224f1a06bf13803b257ee52 (\u001b[1;31mmaster\u001b[m) : dataset curation: stage 1\n",
      "* 7244400052f8d27d31f0431fc8238a195d5bada4 : datasets init\n"
     ]
    }
   ],
   "source": [
    "repo.log()"
   ]
  },
  {
   "cell_type": "code",
   "execution_count": 24,
   "metadata": {},
   "outputs": [
    {
     "ename": "TypeError",
     "evalue": "'DatasetDataReader' object does not support item deletion",
     "output_type": "error",
     "traceback": [
      "\u001b[0;31m---------------------------------------------------------------------------\u001b[0m",
      "\u001b[0;31mTypeError\u001b[0m                                 Traceback (most recent call last)",
      "\u001b[0;32m<ipython-input-24-5162edc1681b>\u001b[0m in \u001b[0;36m<module>\u001b[0;34m\u001b[0m\n\u001b[0;32m----> 1\u001b[0;31m \u001b[0;32mdel\u001b[0m \u001b[0mdset\u001b[0m\u001b[0;34m[\u001b[0m\u001b[0;34m'1'\u001b[0m\u001b[0;34m]\u001b[0m\u001b[0;34m\u001b[0m\u001b[0;34m\u001b[0m\u001b[0m\n\u001b[0m",
      "\u001b[0;31mTypeError\u001b[0m: 'DatasetDataReader' object does not support item deletion"
     ]
    }
   ],
   "source": [
    "del dset['1']"
   ]
  },
  {
   "cell_type": "markdown",
   "metadata": {},
   "source": [
    "### Metadata"
   ]
  },
  {
   "cell_type": "code",
   "execution_count": 25,
   "metadata": {},
   "outputs": [
    {
     "name": "stdout",
     "output_type": "stream",
     "text": [
      "Commit operation requested with message: Added source\n",
      "(7658294, 1876746, 65536)\n",
      "removing all stage hash records\n",
      "Commit completed. Commit hash: 45a8a990eedb268b5a343bfc9257154ff1ccf25c\n",
      "writer checkout of master closed\n"
     ]
    }
   ],
   "source": [
    "co = repo.checkout(write=True)\n",
    "co.metadata['DataSource'] = \"Sherin\"\n",
    "co.commit(\"Added source\")\n",
    "co.close()"
   ]
  },
  {
   "cell_type": "markdown",
   "metadata": {},
   "source": [
    "### Safety from python \"oddities\" is built in Hangar's very essense."
   ]
  },
  {
   "cell_type": "code",
   "execution_count": 26,
   "metadata": {},
   "outputs": [
    {
     "name": "stdout",
     "output_type": "stream",
     "text": [
      "writer checkout of master closed\n"
     ]
    },
    {
     "ename": "ReferenceError",
     "evalue": "weakly-referenced object no longer exists",
     "output_type": "error",
     "traceback": [
      "\u001b[0;31m---------------------------------------------------------------------------\u001b[0m",
      "\u001b[0;31mReferenceError\u001b[0m                            Traceback (most recent call last)",
      "\u001b[0;32m<ipython-input-26-0110cf8cfc58>\u001b[0m in \u001b[0;36m<module>\u001b[0;34m\u001b[0m\n\u001b[1;32m      2\u001b[0m \u001b[0mdata_dset\u001b[0m \u001b[0;34m=\u001b[0m \u001b[0mco\u001b[0m\u001b[0;34m.\u001b[0m\u001b[0mdatasets\u001b[0m\u001b[0;34m[\u001b[0m\u001b[0;34m'mnist_data'\u001b[0m\u001b[0;34m]\u001b[0m\u001b[0;34m\u001b[0m\u001b[0;34m\u001b[0m\u001b[0m\n\u001b[1;32m      3\u001b[0m \u001b[0mco\u001b[0m\u001b[0;34m.\u001b[0m\u001b[0mclose\u001b[0m\u001b[0;34m(\u001b[0m\u001b[0;34m)\u001b[0m\u001b[0;34m\u001b[0m\u001b[0;34m\u001b[0m\u001b[0m\n\u001b[0;32m----> 4\u001b[0;31m \u001b[0mdata_dset\u001b[0m\u001b[0;34m[\u001b[0m\u001b[0;34m'1'\u001b[0m\u001b[0;34m]\u001b[0m\u001b[0;34m\u001b[0m\u001b[0;34m\u001b[0m\u001b[0m\n\u001b[0m",
      "\u001b[0;31mReferenceError\u001b[0m: weakly-referenced object no longer exists"
     ]
    }
   ],
   "source": [
    "co = repo.checkout(write=True)\n",
    "data_dset = co.datasets['mnist_data']\n",
    "co.close()\n",
    "data_dset['1']"
   ]
  },
  {
   "cell_type": "markdown",
   "metadata": {},
   "source": [
    "### What you put in is what you get out\n",
    "All data is hashed by cryptographically secure hash algorithms (blake2b with 20byte digest length)\n",
    "A commit is entirely self sufficient, and it's hash depends on the hash of previous references\n",
    "For performance reasons, data hash is only calculated / verified when:\n",
    "\n",
    "a sample is added to a dataset\n",
    "data is fetched from a remote repo\n",
    "data is sent to a remote repo\n",
    "During regular read access, data integrity is ensured via fletcher32 / crc32 checksums\n",
    "\n",
    "Backend store utilities provide well validated, trusted, and performant implementations"
   ]
  },
  {
   "cell_type": "markdown",
   "metadata": {},
   "source": [
    "## Branching & Merging\n",
    "- Time travel through the historical evolution of a dataset\n",
    "- Zero-cost Branching to enable exploratory analysis and collaboration\n",
    "- Cheap Merging to build datasets over time (with multiple collaborators)\n",
    "- Completely abstracted organization and management of data files on disk\n",
    "- Ability to only retrieve a small portion of the data (as needed) while still maintaining complete historical record\n",
    "- Ability to push and pull changes directly to collaborators or a central server (ie a truly distributed version control system)"
   ]
  },
  {
   "cell_type": "code",
   "execution_count": 29,
   "metadata": {},
   "outputs": [
    {
     "data": {
      "text/plain": [
       "'stage2'"
      ]
     },
     "execution_count": 29,
     "metadata": {},
     "output_type": "execute_result"
    }
   ],
   "source": [
    "repo.create_branch('stage2')"
   ]
  },
  {
   "cell_type": "code",
   "execution_count": 30,
   "metadata": {},
   "outputs": [],
   "source": [
    "co2 = repo.checkout(branch_name='stage2', write=True)"
   ]
  },
  {
   "cell_type": "code",
   "execution_count": 31,
   "metadata": {},
   "outputs": [
    {
     "data": {
      "text/plain": [
       "((10000,), (10000, 28, 28))"
      ]
     },
     "execution_count": 31,
     "metadata": {},
     "output_type": "execute_result"
    }
   ],
   "source": [
    "target = np.load(os.path.join(datapath, 'target2.npy'))\n",
    "data = np.load(os.path.join(datapath, 'data2.npy'))\n",
    "target.shape, data.shape"
   ]
  },
  {
   "cell_type": "code",
   "execution_count": 32,
   "metadata": {},
   "outputs": [
    {
     "name": "stderr",
     "output_type": "stream",
     "text": [
      "100%|██████████| 10000/10000 [00:02<00:00, 4242.30it/s]\n"
     ]
    },
    {
     "name": "stdout",
     "output_type": "stream",
     "text": [
      "Commit operation requested with message: Data curation: stage2\n",
      "(8938294, 2189342, 65536)\n",
      "removing all stage hash records\n",
      "Commit completed. Commit hash: 529cded99cf7425ec9341bc9f8dd17402220f8e2\n",
      "writer checkout of stage2 closed\n"
     ]
    }
   ],
   "source": [
    "with co2.datasets['mnist_data'] as ddset, co2.datasets['mnist_target'] as tdset:\n",
    "    current_index = len(ddset)\n",
    "    for i in tqdm(range(len(data))):\n",
    "        sample_name = str(current_index + i)\n",
    "        ddset[sample_name] = data[i]\n",
    "        tdset[sample_name] = np.array(target[i])\n",
    "co2.metadata['DataSource'] = \"Somebody else\"\n",
    "co2.commit('Data curation: stage2')\n",
    "co2.close()"
   ]
  },
  {
   "cell_type": "code",
   "execution_count": 33,
   "metadata": {},
   "outputs": [
    {
     "data": {
      "text/plain": [
       "['master', 'stage2']"
      ]
     },
     "execution_count": 33,
     "metadata": {},
     "output_type": "execute_result"
    }
   ],
   "source": [
    "repo.list_branch_names()"
   ]
  },
  {
   "cell_type": "code",
   "execution_count": 34,
   "metadata": {},
   "outputs": [
    {
     "name": "stdout",
     "output_type": "stream",
     "text": [
      "* 529cded99cf7425ec9341bc9f8dd17402220f8e2 (\u001b[1;31mstage2\u001b[m) : Data curation: stage2\n",
      "* 45a8a990eedb268b5a343bfc9257154ff1ccf25c (\u001b[1;31mmaster\u001b[m) : Added source\n",
      "* 9a599a00e6a5a9815224f1a06bf13803b257ee52 : dataset curation: stage 1\n",
      "* 7244400052f8d27d31f0431fc8238a195d5bada4 : datasets init\n"
     ]
    }
   ],
   "source": [
    "repo.log(branch_name='stage2')"
   ]
  },
  {
   "cell_type": "code",
   "execution_count": 35,
   "metadata": {},
   "outputs": [],
   "source": [
    "co = repo.checkout(write=True)"
   ]
  },
  {
   "cell_type": "code",
   "execution_count": 36,
   "metadata": {},
   "outputs": [
    {
     "name": "stdout",
     "output_type": "stream",
     "text": [
      "Commit operation requested with message: Dummy metadata\n",
      "(7658351, 1876789, 65536)\n",
      "removing all stage hash records\n",
      "Commit completed. Commit hash: cab1492751e1f5bb202c36a175f442e53d6e23cf\n"
     ]
    },
    {
     "data": {
      "text/plain": [
       "'cab1492751e1f5bb202c36a175f442e53d6e23cf'"
      ]
     },
     "execution_count": 36,
     "metadata": {},
     "output_type": "execute_result"
    }
   ],
   "source": [
    "# Dummy commit to make the diversion\n",
    "co.metadata['RandomeKey'] = \"RandomValue\"\n",
    "co.commit(\"Dummy metadata\")"
   ]
  },
  {
   "cell_type": "code",
   "execution_count": 37,
   "metadata": {},
   "outputs": [],
   "source": [
    "# It's not a good idea to run this now\n",
    "# from pprint import pprint\n",
    "# pprint(co.diff.branch(\"stage2\"))"
   ]
  },
  {
   "cell_type": "code",
   "execution_count": 38,
   "metadata": {},
   "outputs": [
    {
     "name": "stdout",
     "output_type": "stream",
     "text": [
      "Selected 3-Way Merge Strategy\n",
      "(8938351, 2189381, 65536)\n",
      "removing all stage hash records\n"
     ]
    },
    {
     "data": {
      "text/plain": [
       "'baf680d7e5ff9cd3ebc5ccb18aa87e6344d0d331'"
      ]
     },
     "execution_count": 38,
     "metadata": {},
     "output_type": "execute_result"
    }
   ],
   "source": [
    "co.merge(\"Merging stage2\", dev_branch='stage2')"
   ]
  },
  {
   "cell_type": "code",
   "execution_count": 39,
   "metadata": {},
   "outputs": [
    {
     "name": "stdout",
     "output_type": "stream",
     "text": [
      "writer checkout of master closed\n"
     ]
    }
   ],
   "source": [
    "co.close()"
   ]
  },
  {
   "cell_type": "code",
   "execution_count": 40,
   "metadata": {},
   "outputs": [
    {
     "name": "stdout",
     "output_type": "stream",
     "text": [
      "*   baf680d7e5ff9cd3ebc5ccb18aa87e6344d0d331 (\u001b[1;31mmaster\u001b[m) : Merging stage2\n",
      "\u001b[1;31m|\u001b[m\u001b[1;32m\\\u001b[m  \n",
      "* \u001b[1;32m|\u001b[m cab1492751e1f5bb202c36a175f442e53d6e23cf : Dummy metadata\n",
      "\u001b[1;32m|\u001b[m * 529cded99cf7425ec9341bc9f8dd17402220f8e2 (\u001b[1;31mstage2\u001b[m) : Data curation: stage2\n",
      "\u001b[1;32m|\u001b[m\u001b[1;32m/\u001b[m  \n",
      "* 45a8a990eedb268b5a343bfc9257154ff1ccf25c : Added source\n",
      "* 9a599a00e6a5a9815224f1a06bf13803b257ee52 : dataset curation: stage 1\n",
      "* 7244400052f8d27d31f0431fc8238a195d5bada4 : datasets init\n"
     ]
    }
   ],
   "source": [
    "repo.log()"
   ]
  },
  {
   "cell_type": "code",
   "execution_count": 41,
   "metadata": {},
   "outputs": [
    {
     "name": "stdout",
     "output_type": "stream",
     "text": [
      "\n",
      "======================\n",
      "Branch\n",
      "File Size: 32.77 kB\n",
      "======================\n",
      "\n",
      "b'branch:master' b'baf680d7e5ff9cd3ebc5ccb18aa87e6344d0d331'\n",
      "b'branch:stage2' b'529cded99cf7425ec9341bc9f8dd17402220f8e2'\n",
      "b'head' b'branch:master'\n",
      "b'writerlock:' b'LOCK_AVAILABLE'\n",
      "\n",
      "======================\n",
      "Label\n",
      "File Size: 28.67 kB\n",
      "======================\n",
      "\n",
      "b'h:0aebb413657b336278caf6c6c16ff7f82f51d847' b'Sherin'\n",
      "b'h:62117c1d7e38b36756574d88ace2ec7931b1203f' b'RandomValue'\n",
      "b'h:b8250b35c6f24d3fd77c1a77117f18021d5026f7' b'Somebody else'\n",
      "\n",
      "======================\n",
      "HASH\n",
      "File Size: 16.65 MB\n",
      "======================\n",
      "\n",
      "b'h:0000b8a4c5c44ed62bd74f5f434ca73af2b20ad5' b'ed0767935a22 000 $ 77 346 * 28 28'\n",
      "b'h:0000daa96823de7a350454a4ee102e2a25db3ef9' b'ed0767935a22 002 $ 0 469 * 28 28'\n",
      "b'h:0000ee5d2023878fcc25b727a76532dc5284c8fb' b'ed0767935a22 000 $ 10 83 * 28 28'\n",
      "b'h:0003b87e9b75821f8a33216d7c2c944a148ed03a' b'ed0767935a22 000 $ 47 390 * 28 28'\n",
      "b'h:00047a8293468b6147f74550ca45c996b0c4028c' b'ed0767935a22 000 $ 43 176 * 28 28'\n",
      "b'h:0005f048fd5d8ae38556caa5b950cf9078998f01' b'ed0767935a22 000 $ 68 351 * 28 28'\n",
      "b'h:0008b4e88a0d7862e59df3f786a469c88a25b6f5' b'ed0767935a22 000 $ 1 48 * 28 28'\n",
      "b'h:000a821c05af876fd513b3b268982c9aa38636ab' b'ed0767935a22 000 $ 5 463 * 28 28'\n",
      "b'h:000d68cd05120b2051b0ec71d0ef38ca2c8f8562' b'ed0767935a22 000 $ 76 310 * 28 28'\n",
      "b'h:000ea74f36988848ca7423bc9ef88f154b4a9449' b'ed0767935a22 001 $ 7 415 * 28 28'\n",
      "b'h:000f51ddd3d82ae815b2847ba621f00777c287cc' b'ed0767935a22 000 $ 0 40 * 28 28'\n",
      "b'h:0012e32160296ff58e7716253208caf061f679d2' b'ed0767935a22 000 $ 6 129 * 28 28'\n",
      "b'h:0013c0572ffcc4252db69194e192b490ac7cfd75' b'ed0767935a22 000 $ 37 208 * 28 28'\n",
      "b'h:00153338b4c62f274717b144cba6b73fc2eb620f' b'ed0767935a22 000 $ 64 427 * 28 28'\n",
      "b'h:00153dc095e3a936c58e4f312d9aaa07060eb482' b'ed0767935a22 000 $ 0 25 * 28 28'\n",
      "b'h:0019a20f82a5131266be01795cbee0138b031042' b'ed0767935a22 000 $ 2 402 * 28 28'\n",
      "b'h:0019f94a65745643fd92571023e4b7089ff3d5d7' b'ed0767935a22 000 $ 86 215 * 28 28'\n",
      "b'h:001b08566416518de0265cc0aa3dbdab7bb76a33' b'ed0767935a22 000 $ 31 114 * 28 28'\n",
      "b'h:001c22cbb4917c83bbb121196cad62779f6734cd' b'ed0767935a22 000 $ 77 387 * 28 28'\n",
      "b'h:001d3fdb8eaec991b2a222de8997d7ef0a1304a3' b'ed0767935a22 000 $ 40 467 * 28 28'\n",
      "b'h:001d41da305cb7743ece18ddc26e5066669967a7' b'ed0767935a22 000 $ 94 423 * 28 28'\n",
      "b'h:001d4bd30dd4b7864f6491972638768a26c0d51b' b'ed0767935a22 000 $ 59 159 * 28 28'\n",
      "b'h:001d4ff3258218fa43d83c608f2fa7c2f8a80112' b'ed0767935a22 000 $ 58 408 * 28 28'\n",
      "b'h:001d54269b3ac8a6c1e82572700c508290953056' b'ed0767935a22 001 $ 3 147 * 28 28'\n",
      "b'h:001d6b72162bfc4d3eb15cebdf8f928d65139d72' b'ed0767935a22 001 $ 20 383 * 28 28'\n",
      "b'h:001d9a0d8bdb2be4a28fd1361a3e6501a1ff5a79' b'ed0767935a22 000 $ 17 319 * 28 28'\n",
      "b'h:001f53e8201abe3b13821769bd7a4e417968dc83' b'ed0767935a22 001 $ 8 124 * 28 28'\n",
      "b'h:001f7da5ba457dde5fa5fdc2daaf6e1755eda0d1' b'ed0767935a22 002 $ 7 168 * 28 28'\n",
      "b'h:0020b008fab77ca5ef556fa0f1d49b3506cc4837' b'ed0767935a22 002 $ 6 211 * 28 28'\n",
      "b'h:0020cd8ab01cb6a02cba42bd7f4a6e18cd7ffabf' b'ed0767935a22 002 $ 12 334 * 28 28'\n",
      "b'h:0021d79309d88ac7b55dde2ca45601f39853fb0d' b'ed0767935a22 000 $ 97 76 * 28 28'\n",
      "b'h:00220383efd1e0738496a81c100f00ca9cd67b70' b'ed0767935a22 002 $ 15 334 * 28 28'\n",
      "b'h:00231fd2e9d482ab50792eb2ca25bb7e27abf257' b'ed0767935a22 001 $ 4 15 * 28 28'\n",
      "b'h:00232fe18279440a7f959fa8194169c14f0bcebe' b'ed0767935a22 002 $ 11 2 * 28 28'\n",
      "b'h:00238e50a6d0490bd2b99c3b98b527368b596ef7' b'ed0767935a22 000 $ 31 59 * 28 28'\n",
      "b'h:002424b27ac870960f56977be14a2fe37cc21d39' b'ed0767935a22 000 $ 62 35 * 28 28'\n",
      "b'h:0024940819ea59548316aaa1e7d8f2c0f9bd5c91' b'ed0767935a22 000 $ 71 144 * 28 28'\n",
      "b'h:00251629a30d7e76a58adbe3acf67617e2981585' b'ed0767935a22 000 $ 54 381 * 28 28'\n",
      "b'h:0025944b1558085f3c66e3cb36beeee940709c51' b'ed0767935a22 000 $ 34 101 * 28 28'\n",
      "b'h:0025f1f5888fb3c59372e9ca72a5767936452fbd' b'ed0767935a22 000 $ 73 298 * 28 28'\n",
      "b'h:00263f07f7c43a7e97373fd741bf97553a6656c3' b'ed0767935a22 000 $ 10 119 * 28 28'\n",
      "b'h:00265bdd89af911b54217e2d6eba823286ec42d7' b'ed0767935a22 000 $ 88 220 * 28 28'\n",
      "b'h:002768cba1b31c319b724a9e7d5159caf72c4d79' b'ed0767935a22 000 $ 28 89 * 28 28'\n",
      "b'h:00285c39ea90a31310a8b5bcc0b362aa6c2ec8df' b'ed0767935a22 000 $ 43 383 * 28 28'\n",
      "b'h:0028f83b433ca02be93c6bd6ecdbed9be5a95099' b'ed0767935a22 000 $ 13 46 * 28 28'\n",
      "b'h:002b695a871ec4f93fbb2c377e75bec3e1751cb9' b'ed0767935a22 000 $ 48 462 * 28 28'\n",
      "b'h:002bdd89edd79cd08ca6bb1d5a4472603bd58bd7' b'ed0767935a22 002 $ 2 38 * 28 28'\n",
      "b'h:002d1ed67cdd54f7e0adca36393a5a10e34fe86a' b'ed0767935a22 002 $ 16 235 * 28 28'\n",
      "b'h:002e7a9ec35e706aa0357e1e03e8462b52acb9f9' b'ed0767935a22 000 $ 73 264 * 28 28'\n",
      "b'h:002fa37896f059fc0a17bd1af04240651d835d48' b'ed0767935a22 000 $ 0 2 * 28 28'\n",
      "b'h:00311519a8da721752a25fe6fb2fda32446c6b3c' b'ed0767935a22 000 $ 54 225 * 28 28'\n",
      "b'h:0031a78a5ec09fa40b50869fe941980613fb94d2' b'ed0767935a22 000 $ 26 158 * 28 28'\n",
      "b'h:0031b63cbb98db28b6b127d18f5fe9d8f564fcec' b'ed0767935a22 000 $ 73 358 * 28 28'\n",
      "b'h:0031d6ea5f7cc06ae192e9c57da558ceda986069' b'ed0767935a22 002 $ 11 127 * 28 28'\n",
      "b'h:00329f5e8ec63bb54b259fc574f5ba18b2d03daf' b'ed0767935a22 000 $ 43 468 * 28 28'\n",
      "b'h:00330ef38085c6d31ff40efb39da29cc7b4a80cd' b'ed0767935a22 000 $ 72 475 * 28 28'\n",
      "b'h:0033ddb2312edabafb89066bc19b2d9b5da31299' b'ed0767935a22 000 $ 22 99 * 28 28'\n",
      "b'h:003497eea305e52236f7fd811fb36f7a08056469' b'ed0767935a22 000 $ 98 148 * 28 28'\n",
      "b'h:0035365e8d0ad8aee45a8c49771aaf16b50bec60' b'ed0767935a22 000 $ 91 329 * 28 28'\n",
      "b'h:0036179054984cb4381713a14e4b8a8e07f20b14' b'ed0767935a22 000 $ 20 7 * 28 28'\n",
      "b'h:003712444e2b38d98d35a9ac816f1ec5e3ef6aad' b'ed0767935a22 001 $ 2 12 * 28 28'\n",
      "b'h:00372067c71812f482d1701ff2f90d3953fd1922' b'ed0767935a22 000 $ 41 455 * 28 28'\n",
      "b'h:0039053777e40aa4203cb50868d91a58b26e574a' b'ed0767935a22 001 $ 1 9 * 28 28'\n",
      "b'h:00390764f4ca5750ba104de1f044e71af88f7eae' b'ed0767935a22 000 $ 38 56 * 28 28'\n",
      "b'h:00390f2f2d72cb5193bda59f74ea1f6ed8624a96' b'ed0767935a22 000 $ 33 37 * 28 28'\n",
      "b'h:003adfbe80ae15035a8ad6113cc49b3e1420a865' b'ed0767935a22 000 $ 61 111 * 28 28'\n",
      "b'h:003c1aed7cf07cddc838555a4c8975c374ef3d3d' b'ed0767935a22 002 $ 19 195 * 28 28'\n",
      "b'h:003c9d8284770a1c7cec5e834b4d422f72da6c65' b'ed0767935a22 001 $ 19 299 * 28 28'\n",
      "b'h:003ddfb74f43f36a825e59a8050d3c80689d56f1' b'ed0767935a22 002 $ 17 6 * 28 28'\n",
      "b'h:003e0ee473250dfce74e2005cf584dfb6062c02e' b'ed0767935a22 002 $ 2 398 * 28 28'\n",
      "b'h:003ec352903f6b378306bdf666ec943e0a3f5915' b'ed0767935a22 000 $ 86 165 * 28 28'\n",
      "b'h:003f2f3496dec03de4b79f201f4c41fd22a33489' b'ed0767935a22 000 $ 14 3 * 28 28'\n",
      "b'h:00417448c54eaecdf500a02d8f814824ac984c55' b'ed0767935a22 001 $ 1 223 * 28 28'\n",
      "b'h:0042593d30e9b232327ecbac6858369117e02a9c' b'ed0767935a22 000 $ 47 226 * 28 28'\n",
      "b'h:00427d543ac90804998296a9972107fc50265750' b'ed0767935a22 000 $ 92 296 * 28 28'\n",
      "b'h:00440a3f3c447c67e14a59546ba33fc719a79169' b'ed0767935a22 000 $ 61 103 * 28 28'\n",
      "b'h:0044952e5e54ba981acd33c271a5f74568f79a34' b'ed0767935a22 000 $ 46 489 * 28 28'\n",
      "b'h:0046dac2bd5a5265b72f27fdcfc6542807a9b493' b'ed0767935a22 000 $ 9 417 * 28 28'\n",
      "b'h:0047015b32936dabd5de4f6914cd6ceb411f78a7' b'ed0767935a22 001 $ 6 330 * 28 28'\n",
      "b'h:00479a655894355fdf7062de6f6bc40f37972a4b' b'ed0767935a22 002 $ 12 199 * 28 28'\n",
      "b'h:0048473721a1e104a9a4e5dade6042c4decbb779' b'ed0767935a22 000 $ 60 254 * 28 28'\n",
      "b'h:0049999616f3563d21309666fc566f8fc2dc67a0' b'ed0767935a22 001 $ 10 369 * 28 28'\n",
      "b'h:0049f0c893ad2279ea43780908fd5e79acb86e02' b'ed0767935a22 000 $ 88 396 * 28 28'\n",
      "b'h:004a900b5dcb73650743741da1346856d14b691f' b'ed0767935a22 001 $ 5 166 * 28 28'\n",
      "b'h:004b3a9e485a8203bc552fd98d9de9f746efa5ab' b'ed0767935a22 000 $ 87 340 * 28 28'\n",
      "b'h:004c6848a182d635ca007c3e1a2e6a299799823b' b'ed0767935a22 001 $ 5 138 * 28 28'\n",
      "b'h:004cccefb62da2aec9dae20f02ce9abb986b26aa' b'ed0767935a22 000 $ 87 229 * 28 28'\n",
      "b'h:004d114248f2da3ab31e34306f94ff81793cdc7f' b'ed0767935a22 000 $ 73 423 * 28 28'\n",
      "b'h:004fc0ba554230703859c859d6309796beba43ee' b'ed0767935a22 002 $ 2 47 * 28 28'\n",
      "b'h:00506c72396528efc06bbff15dc432e24c39e3cd' b'ed0767935a22 000 $ 90 309 * 28 28'\n",
      "b'h:0050ae25c5b98311af2963f2062b2b8a678aed67' b'ed0767935a22 000 $ 45 380 * 28 28'\n",
      "b'h:0050f0b0e6fac959bc2f6ba0e0322b1f23aacf1a' b'ed0767935a22 001 $ 4 109 * 28 28'\n",
      "b'h:0050ffb49498e4f5127aad9ed9585f85bf9e7539' b'ed0767935a22 001 $ 15 171 * 28 28'\n",
      "b'h:005452728d45d9901822805af29843469c6dad21' b'ed0767935a22 002 $ 1 459 * 28 28'\n",
      "b'h:00547d3340eadc75f808fce975736fa335ae9be0' b'ed0767935a22 002 $ 18 484 * 28 28'\n",
      "b'h:0055cbc701257d6773b99c4fdf2c3b1b97906186' b'ed0767935a22 001 $ 11 34 * 28 28'\n",
      "b'h:0056059b69bb407e9436a65e09ac640e5b663bda' b'ed0767935a22 000 $ 79 103 * 28 28'\n",
      "b'h:0056167e5566f2770d536b30eab9aab7e998348b' b'ed0767935a22 000 $ 86 411 * 28 28'\n",
      "b'h:0056ba6305b6d43250a9bd46a6bd37a398ab8a3b' b'ed0767935a22 000 $ 74 334 * 28 28'\n",
      "b'h:005708fd42314887b7933e4ade2208c9424a4f81' b'ed0767935a22 002 $ 9 40 * 28 28'\n",
      "\n",
      "======================\n",
      "STAGE HASH\n",
      "File Size: 9.06 MB\n",
      "======================\n",
      "\n",
      "\n",
      "======================\n",
      "Commit\n",
      "File Size: 10.06 MB\n",
      "======================\n",
      "\n",
      "b'45a8a990eedb268b5a343bfc9257154ff1ccf25c' b'9a599a00e6a5a9815224f1a06bf13803b257ee52'\n",
      "b'45a8a990eedb268b5a343bfc9257154ff1ccf25c:ref' long binary\n",
      "b'45a8a990eedb268b5a343bfc9257154ff1ccf25c:spec' long binary\n",
      "b'529cded99cf7425ec9341bc9f8dd17402220f8e2' b'45a8a990eedb268b5a343bfc9257154ff1ccf25c'\n",
      "b'529cded99cf7425ec9341bc9f8dd17402220f8e2:ref' long binary\n",
      "b'529cded99cf7425ec9341bc9f8dd17402220f8e2:spec' long binary\n",
      "b'7244400052f8d27d31f0431fc8238a195d5bada4' b''\n",
      "b'7244400052f8d27d31f0431fc8238a195d5bada4:ref' long binary\n",
      "b'7244400052f8d27d31f0431fc8238a195d5bada4:spec' long binary\n",
      "b'9a599a00e6a5a9815224f1a06bf13803b257ee52' b'7244400052f8d27d31f0431fc8238a195d5bada4'\n",
      "b'9a599a00e6a5a9815224f1a06bf13803b257ee52:ref' long binary\n",
      "b'9a599a00e6a5a9815224f1a06bf13803b257ee52:spec' long binary\n",
      "b'baf680d7e5ff9cd3ebc5ccb18aa87e6344d0d331' b'cab1492751e1f5bb202c36a175f442e53d6e23cf << 529cded99cf7425ec9341bc9f8dd17402220f8e2'\n",
      "b'baf680d7e5ff9cd3ebc5ccb18aa87e6344d0d331:ref' long binary\n",
      "b'baf680d7e5ff9cd3ebc5ccb18aa87e6344d0d331:spec' long binary\n",
      "b'cab1492751e1f5bb202c36a175f442e53d6e23cf' b'45a8a990eedb268b5a343bfc9257154ff1ccf25c'\n",
      "b'cab1492751e1f5bb202c36a175f442e53d6e23cf:ref' long binary\n",
      "b'cab1492751e1f5bb202c36a175f442e53d6e23cf:spec' long binary\n",
      "\n",
      "======================\n",
      "Stage\n",
      "File Size: 24.15 MB\n",
      "======================\n",
      "\n",
      "b'a:' b'2'\n",
      "b'a:mnist_data' b'70000'\n",
      "b'a:mnist_data:0' b'38cea5af0d6c683456fe5f1ae0c3dff642fc05e0'\n",
      "b'a:mnist_data:1' b'002fa37896f059fc0a17bd1af04240651d835d48'\n",
      "b'a:mnist_data:10' b'7743eab54c3c839c562791ac0765e2ad358f8395'\n",
      "b'a:mnist_data:100' b'41c569dab46d2b5e9dc72c1c7ab0ab384f22bb75'\n",
      "b'a:mnist_data:1000' b'283bc2883493d8f86fcd88bf66006d3cdd55161e'\n",
      "b'a:mnist_data:10000' b'6a3748dd2535ee84ef698dc8b4145b9d992b7820'\n",
      "b'a:mnist_data:10001' b'6f69e0c46331258ede70ae9b7ccc6ddb4d7bfd04'\n",
      "b'a:mnist_data:10002' b'607c15acb6374c0e1932fa43e366f3df35755c46'\n",
      "b'a:mnist_data:10003' b'4cbec5f560a3001213dc885885d66188be627852'\n",
      "b'a:mnist_data:10004' b'31fb38e64f95fb04f85b68b21cb647901a4f0d61'\n",
      "b'a:mnist_data:10005' b'1a2d4d674459b9c81ba2003418fd7932ff016ec3'\n",
      "b'a:mnist_data:10006' b'0036179054984cb4381713a14e4b8a8e07f20b14'\n",
      "b'a:mnist_data:10007' b'6c8b9b2be430ab97888f3898d20d959e8dcb2aec'\n",
      "b'a:mnist_data:10008' b'59c618dddc62072b7b4c3f0054b864901711ee7b'\n",
      "b'a:mnist_data:10009' b'84af8d709b69eb1961d8b57bdb938fa4c911d03b'\n",
      "b'a:mnist_data:1001' b'f9bdeae1619380f8cff5ccf8220484e7ba8ee263'\n",
      "b'a:mnist_data:10010' b'bb2a01816e594deec93b83fda2de81bf4dcead15'\n",
      "b'a:mnist_data:10011' b'd40f3fa644d289ee9708aeb3efdcc5ecabdd796c'\n",
      "b'a:mnist_data:10012' b'1ebe9733692ce44b1a7f497194e1b604602b4170'\n",
      "b'a:mnist_data:10013' b'51a3eae98df6fa50f44e16b9b8d520c9d331df59'\n",
      "b'a:mnist_data:10014' b'1c7427cb5012b799de4c75bc2dbbb4cbe3e91f27'\n",
      "b'a:mnist_data:10015' b'4df630c110058a654e2aee6988af4a81e9272ff6'\n",
      "b'a:mnist_data:10016' b'228683b4761e32ce81cbc5426ab76a7b89ea67d2'\n",
      "b'a:mnist_data:10017' b'885bef0aaf9619fdb5e717fa6cae6b2732bf7214'\n",
      "b'a:mnist_data:10018' b'1829b59ab6aa0f8a6f4becbc7a1172d4fd8f8571'\n",
      "b'a:mnist_data:10019' b'ced7abe32341d79e64e75bc85fdabddb4e29aaf1'\n",
      "b'a:mnist_data:1002' b'f282972879d4261514b2e4e17ad25adc6e858da8'\n",
      "b'a:mnist_data:10020' b'fe3361995d967908785bcf134f3be4655758baa2'\n",
      "b'a:mnist_data:10021' b'8d2a9515aa37abca2c3527590f0d25d59b9f1fbe'\n",
      "b'a:mnist_data:10022' b'9688848c0cffb580716dd873bac936702fa15135'\n",
      "b'a:mnist_data:10023' b'1c0723e93cefc02c9ca8856cab4296187b2e9061'\n",
      "b'a:mnist_data:10024' b'e047334acf2a3f7ca5691fb387ca650ab8236cc5'\n",
      "b'a:mnist_data:10025' b'36cb9600aee66e047731bf9fc8aaea5ebef4b0b7'\n",
      "b'a:mnist_data:10026' b'1feaff329b79ed0030b0913374d68542dab8e094'\n",
      "b'a:mnist_data:10027' b'aaf8629a93c2936ea228b2034292768de97d03d0'\n",
      "b'a:mnist_data:10028' b'7e7ddc8978236edb694cc1d1addf70ebce343ea6'\n",
      "b'a:mnist_data:10029' b'f1e7e2c555943818ac9c8f0519f30e98e57ed450'\n",
      "b'a:mnist_data:1003' b'574925beb6e77c4347f5410179bdca365f00fd3f'\n",
      "b'a:mnist_data:10030' b'8ad871444475717c6eb6d801a4156c1a35d9b7fd'\n",
      "b'a:mnist_data:10031' b'271d9c590fa8fc2e0e6f7edd9f3cb7b4d1a70d1f'\n",
      "b'a:mnist_data:10032' b'197f0e8f03d0c4a6b36e5257160a32ada678a3a3'\n",
      "b'a:mnist_data:10033' b'5107bfdd64260344b8863b434f2440f50b81c44d'\n",
      "b'a:mnist_data:10034' b'f95fc19e4c9566c096c592ed467200a31fb6f379'\n",
      "b'a:mnist_data:10035' b'e7ba8da54aaab902ae114eadea5444eb2b575f08'\n",
      "b'a:mnist_data:10036' b'e60342506d53c5fd18749dec167e8d2ccdce6f76'\n",
      "b'a:mnist_data:10037' b'14d2e96ec8b3d750f86c607577f526d4cbaf0069'\n",
      "b'a:mnist_data:10038' b'9d02e7822b77131785c963101a8374f1d01fed80'\n",
      "b'a:mnist_data:10039' b'625fd5756a37ff227822efd4c821ec1f6afb656e'\n",
      "b'a:mnist_data:1004' b'87bbbbd6dfb0d2f091b7c08b1492a68899cdb4be'\n",
      "b'a:mnist_data:10040' b'33bfdacaff12567d04b02b7456f50578ccd0a3e3'\n",
      "b'a:mnist_data:10041' b'64ef4e845daff8a72feabeedd60a451dac44e723'\n",
      "b'a:mnist_data:10042' b'66571a4c7646ddd6b7b7e19b6f129216fec606b5'\n",
      "b'a:mnist_data:10043' b'96f8c945a5014ae092b3afcb01940f5690a01c20'\n",
      "b'a:mnist_data:10044' b'71d20eeeb896f98d6221b0923ec0dfd75d07f550'\n",
      "b'a:mnist_data:10045' b'bef221f3ce603026dea4d87f481fb314ac09d9e0'\n",
      "b'a:mnist_data:10046' b'733fe542b751f332c3a597e61f63fdbb14039cd8'\n",
      "b'a:mnist_data:10047' b'f791b4f0f88d5eba8117c114952986a4ce8b32a3'\n",
      "b'a:mnist_data:10048' b'a6597b5b3013a2c09422ebf616a95d05eb20ad04'\n",
      "b'a:mnist_data:10049' b'fd62bce4854a381b2e8ad285ecaa55d6c2291be3'\n",
      "b'a:mnist_data:1005' b'1a728f792182d9979778f3bf53af36831fba504e'\n",
      "b'a:mnist_data:10050' b'366d4fc338adc64dfec7e376933af6fafa244f2d'\n",
      "b'a:mnist_data:10051' b'a21a9b9f879afc10e32fcd1c31db15584af2fc40'\n",
      "b'a:mnist_data:10052' b'ded0f601f2bf3d0f36d637e8764fdf4fa8b39806'\n",
      "b'a:mnist_data:10053' b'5f5b3aaeb40f7c8643a0b6113b176b8852fbcd1a'\n",
      "b'a:mnist_data:10054' b'74c3cd38af0feadb53bbfd410b30481c01a8ee6e'\n",
      "b'a:mnist_data:10055' b'e8c1d211bdb96b47fb6fa532092127b57e4604d5'\n",
      "b'a:mnist_data:10056' b'fadedf1e8f994545e84a4fab0153027ee1d6510f'\n",
      "b'a:mnist_data:10057' b'056042d5975af7f09e9285e41b3264252a05c43e'\n",
      "b'a:mnist_data:10058' b'd440fdf6ae5e923ab56256ec150cca6cbf286ceb'\n",
      "b'a:mnist_data:10059' b'fb2a5aa6fca804c98aa8a69e27cefff3d29d6cd5'\n",
      "b'a:mnist_data:1006' b'f619ccde62badc4ddad949826ee0688975cfb22e'\n",
      "b'a:mnist_data:10060' b'32a1fac6108be526e5fcea0a9b1685002210b2ef'\n",
      "b'a:mnist_data:10061' b'a79112e3043b7ad69f62b82fa915c707bc73d87d'\n",
      "b'a:mnist_data:10062' b'f9dc5844b21a299a46876c6e6ac8b42f324af987'\n",
      "b'a:mnist_data:10063' b'95b4de93f1b0ae3d7ce0c594a8614e268ecaccbf'\n",
      "b'a:mnist_data:10064' b'1df999452cb1cbbc677381c0f19cc58ae2933788'\n",
      "b'a:mnist_data:10065' b'7c6a1fbe9a43aa24c8933246f8a5cd530e281ee2'\n",
      "b'a:mnist_data:10066' b'782667c77ce56513813c7b82fcbe4c42cd21962c'\n",
      "b'a:mnist_data:10067' b'adfc4e2911ffb9e49ba750f7ce981f5cd6ca3e36'\n",
      "b'a:mnist_data:10068' b'cc7553f368575e78204faa267ef253370ee00cd5'\n",
      "b'a:mnist_data:10069' b'30f0b1ebab39969db0d7bfba0cab8b805e13db22'\n",
      "b'a:mnist_data:1007' b'4089db1ce8d4b54132adcdc62ae25b4c6f0d04e9'\n",
      "b'a:mnist_data:10070' b'a22775c4d981ccec7ec9678c335fd31555bf4a9f'\n",
      "b'a:mnist_data:10071' b'b8cc0526d4225799e159e37a18f5cad8bf9f9151'\n",
      "b'a:mnist_data:10072' b'0a981f5f9bac76bb3e15961056302339b00880c6'\n",
      "b'a:mnist_data:10073' b'63f832103bebefecba2dff4258f05fddb07084a4'\n",
      "b'a:mnist_data:10074' b'513e00e2b26791bd43cb99f91814e028a1ded2ff'\n",
      "b'a:mnist_data:10075' b'c667c90e343d0bad0cdb5c440e8c0f1b2dd1de7a'\n",
      "b'a:mnist_data:10076' b'2ea2e59e26253ce8ed4abbae1e8cac2fb6c7b24b'\n",
      "b'a:mnist_data:10077' b'4437091fa5ce04b609656f33a13d241cf34640cf'\n",
      "b'a:mnist_data:10078' b'933257db6462dd5eec0e18f05e8f6e38f1c1d0c9'\n",
      "b'a:mnist_data:10079' b'8696626bbf94b672546b659c34123f9bf915f0f4'\n",
      "b'a:mnist_data:1008' b'0c58897f29feba401275c2cefbfaccda0e2f48d5'\n",
      "b'a:mnist_data:10080' b'77dc95bb4819381ef6194d4c6021020ed5d86d86'\n",
      "b'a:mnist_data:10081' b'd29b8f0145da977b2893a83a093110f68f23c658'\n",
      "b'a:mnist_data:10082' b'9f51e8d5945c86a5a2527a8f6fc1ae90e8976d0c'\n",
      "b'a:mnist_data:10083' b'9021988744a09a0f34f18498deb0de0a8516b83b'\n",
      "b'a:mnist_data:10084' b'82ee91a777221edf030dc03f3ab7628506b1f296'\n",
      "\n",
      "======================\n",
      "Commit: 9a599a00e6a5a9815224f1a06bf13803b257ee52\n"
     ]
    },
    {
     "ename": "FileNotFoundError",
     "evalue": "Cannot query size of: /tmp/tmph80kd1s3/9a599a00e6a5a9815224f1a06bf13803b257ee52.lmdb. File does not exist",
     "output_type": "error",
     "traceback": [
      "\u001b[0;31m---------------------------------------------------------------------------\u001b[0m",
      "\u001b[0;31mFileNotFoundError\u001b[0m                         Traceback (most recent call last)",
      "\u001b[0;32m<ipython-input-41-a125bca6f895>\u001b[0m in \u001b[0;36m<module>\u001b[0;34m\u001b[0m\n\u001b[0;32m----> 1\u001b[0;31m \u001b[0mrepo\u001b[0m\u001b[0;34m.\u001b[0m\u001b[0m_details\u001b[0m\u001b[0;34m(\u001b[0m\u001b[0;34m)\u001b[0m\u001b[0;34m\u001b[0m\u001b[0;34m\u001b[0m\u001b[0m\n\u001b[0m",
      "\u001b[0;32m~/anaconda3/envs/dlblr/lib/python3.7/site-packages/hangar/repository.py\u001b[0m in \u001b[0;36m_details\u001b[0;34m(self)\u001b[0m\n\u001b[1;32m    596\u001b[0m         '''DEVELOPER USE ONLY: Dump some details about the underlying db structure to disk.\n\u001b[1;32m    597\u001b[0m         '''\n\u001b[0;32m--> 598\u001b[0;31m         \u001b[0msummarize\u001b[0m\u001b[0;34m.\u001b[0m\u001b[0mdetails\u001b[0m\u001b[0;34m(\u001b[0m\u001b[0mself\u001b[0m\u001b[0;34m.\u001b[0m\u001b[0m_env\u001b[0m\u001b[0;34m)\u001b[0m\u001b[0;34m\u001b[0m\u001b[0;34m\u001b[0m\u001b[0m\n\u001b[0m\u001b[1;32m    599\u001b[0m         \u001b[0;32mreturn\u001b[0m\u001b[0;34m\u001b[0m\u001b[0;34m\u001b[0m\u001b[0m\n\u001b[1;32m    600\u001b[0m \u001b[0;34m\u001b[0m\u001b[0m\n",
      "\u001b[0;32m~/anaconda3/envs/dlblr/lib/python3.7/site-packages/hangar/records/summarize.py\u001b[0m in \u001b[0;36mdetails\u001b[0;34m(env)\u001b[0m\n\u001b[1;32m    183\u001b[0m         \u001b[0mprint\u001b[0m\u001b[0;34m(\u001b[0m\u001b[0;34m'======================'\u001b[0m\u001b[0;34m)\u001b[0m\u001b[0;34m\u001b[0m\u001b[0;34m\u001b[0m\u001b[0m\n\u001b[1;32m    184\u001b[0m         \u001b[0mprint\u001b[0m\u001b[0;34m(\u001b[0m\u001b[0;34mf'Commit: {commit}'\u001b[0m\u001b[0;34m)\u001b[0m\u001b[0;34m\u001b[0m\u001b[0;34m\u001b[0m\u001b[0m\n\u001b[0;32m--> 185\u001b[0;31m         \u001b[0mprint\u001b[0m\u001b[0;34m(\u001b[0m\u001b[0;34mf'File Size: {format_bytes(file_size(commitenv.path()))}'\u001b[0m\u001b[0;34m)\u001b[0m\u001b[0;34m\u001b[0m\u001b[0;34m\u001b[0m\u001b[0m\n\u001b[0m\u001b[1;32m    186\u001b[0m         \u001b[0mprint\u001b[0m\u001b[0;34m(\u001b[0m\u001b[0;34m'======================'\u001b[0m\u001b[0;34m)\u001b[0m\u001b[0;34m\u001b[0m\u001b[0;34m\u001b[0m\u001b[0m\n\u001b[1;32m    187\u001b[0m         \u001b[0mprint\u001b[0m\u001b[0;34m(\u001b[0m\u001b[0;34m''\u001b[0m\u001b[0;34m)\u001b[0m\u001b[0;34m\u001b[0m\u001b[0;34m\u001b[0m\u001b[0m\n",
      "\u001b[0;32m~/anaconda3/envs/dlblr/lib/python3.7/site-packages/hangar/utils.py\u001b[0m in \u001b[0;36mfile_size\u001b[0;34m(file_path)\u001b[0m\n\u001b[1;32m    134\u001b[0m     \u001b[0;32mif\u001b[0m \u001b[0;32mnot\u001b[0m \u001b[0mos\u001b[0m\u001b[0;34m.\u001b[0m\u001b[0mpath\u001b[0m\u001b[0;34m.\u001b[0m\u001b[0misfile\u001b[0m\u001b[0;34m(\u001b[0m\u001b[0mfile_path\u001b[0m\u001b[0;34m)\u001b[0m\u001b[0;34m:\u001b[0m\u001b[0;34m\u001b[0m\u001b[0;34m\u001b[0m\u001b[0m\n\u001b[1;32m    135\u001b[0m         \u001b[0merr\u001b[0m \u001b[0;34m=\u001b[0m \u001b[0;34mf'Cannot query size of: {file_path}. File does not exist'\u001b[0m\u001b[0;34m\u001b[0m\u001b[0;34m\u001b[0m\u001b[0m\n\u001b[0;32m--> 136\u001b[0;31m         \u001b[0;32mraise\u001b[0m \u001b[0mFileNotFoundError\u001b[0m\u001b[0;34m(\u001b[0m\u001b[0merr\u001b[0m\u001b[0;34m)\u001b[0m\u001b[0;34m\u001b[0m\u001b[0;34m\u001b[0m\u001b[0m\n\u001b[0m\u001b[1;32m    137\u001b[0m     \u001b[0mnbytes\u001b[0m \u001b[0;34m=\u001b[0m \u001b[0mos\u001b[0m\u001b[0;34m.\u001b[0m\u001b[0mstat\u001b[0m\u001b[0;34m(\u001b[0m\u001b[0mfile_path\u001b[0m\u001b[0;34m)\u001b[0m\u001b[0;34m.\u001b[0m\u001b[0mst_size\u001b[0m\u001b[0;34m\u001b[0m\u001b[0;34m\u001b[0m\u001b[0m\n\u001b[1;32m    138\u001b[0m     \u001b[0;32mreturn\u001b[0m \u001b[0mnbytes\u001b[0m\u001b[0;34m\u001b[0m\u001b[0;34m\u001b[0m\u001b[0m\n",
      "\u001b[0;31mFileNotFoundError\u001b[0m: Cannot query size of: /tmp/tmph80kd1s3/9a599a00e6a5a9815224f1a06bf13803b257ee52.lmdb. File does not exist"
     ]
    }
   ],
   "source": [
    "repo._details()"
   ]
  },
  {
   "cell_type": "code",
   "execution_count": null,
   "metadata": {},
   "outputs": [],
   "source": [
    "repo.summary()"
   ]
  },
  {
   "cell_type": "code",
   "execution_count": null,
   "metadata": {},
   "outputs": [],
   "source": [
    "# What's pending -> Remote Hangar Repository"
   ]
  },
  {
   "cell_type": "markdown",
   "metadata": {},
   "source": [
    "## PyTorch\n",
    "- Dynamic Graph\n",
    "- torch.nn\n",
    "- Datasets & Dataloaders\n",
    "- Training\n",
    "    - Autograd\n",
    "    - Optimization\n",
    "- Validation\n",
    "- Serializing"
   ]
  },
  {
   "cell_type": "code",
   "execution_count": 43,
   "metadata": {},
   "outputs": [],
   "source": [
    "import torch\n",
    "import torch.nn as nn\n",
    "import torch.nn.functional as F\n",
    "import torch.optim as optim"
   ]
  },
  {
   "cell_type": "markdown",
   "metadata": {},
   "source": [
    "### Dynamic Graph"
   ]
  },
  {
   "cell_type": "code",
   "execution_count": null,
   "metadata": {},
   "outputs": [],
   "source": []
  },
  {
   "cell_type": "markdown",
   "metadata": {},
   "source": [
    "### torch.nn"
   ]
  },
  {
   "cell_type": "code",
   "execution_count": 44,
   "metadata": {},
   "outputs": [],
   "source": [
    "class Net(nn.Module):\n",
    "    def __init__(self):\n",
    "        super().__init__()\n",
    "        self.conv1 = nn.Conv2d(1, 20, 5, 1)\n",
    "        self.conv2 = nn.Conv2d(20, 50, 5, 1)\n",
    "        self.fc1 = nn.Linear(4*4*50, 500)\n",
    "        self.fc2 = nn.Linear(500, 10)\n",
    "\n",
    "    def forward(self, x):\n",
    "        x = F.relu(self.conv1(x))\n",
    "        x = F.max_pool2d(x, 2, 2)\n",
    "        x = F.relu(self.conv2(x))\n",
    "        x = F.max_pool2d(x, 2, 2)\n",
    "        x = x.view(-1, 4*4*50)\n",
    "        x = F.relu(self.fc1(x))\n",
    "        x = self.fc2(x)\n",
    "        return F.log_softmax(x, dim=1)"
   ]
  },
  {
   "cell_type": "code",
   "execution_count": 50,
   "metadata": {},
   "outputs": [],
   "source": [
    "device = 'cuda' if torch.cuda.is_available() else 'cpu'\n",
    "model = Net().to(device)\n",
    "optimizer = optim.SGD(model.parameters(), lr=0.01, momentum=0.5)"
   ]
  },
  {
   "cell_type": "code",
   "execution_count": 52,
   "metadata": {},
   "outputs": [
    {
     "data": {
      "text/plain": [
       "Net(\n",
       "  (conv1): Conv2d(1, 20, kernel_size=(5, 5), stride=(1, 1))\n",
       "  (conv2): Conv2d(20, 50, kernel_size=(5, 5), stride=(1, 1))\n",
       "  (fc1): Linear(in_features=800, out_features=500, bias=True)\n",
       "  (fc2): Linear(in_features=500, out_features=10, bias=True)\n",
       ")"
      ]
     },
     "execution_count": 52,
     "metadata": {},
     "output_type": "execute_result"
    }
   ],
   "source": [
    "model.train()"
   ]
  },
  {
   "cell_type": "markdown",
   "metadata": {},
   "source": [
    "### Datasets & Dataloaders"
   ]
  },
  {
   "cell_type": "code",
   "execution_count": 53,
   "metadata": {},
   "outputs": [],
   "source": [
    "from torch.utils.data import Dataset, DataLoader"
   ]
  },
  {
   "cell_type": "code",
   "execution_count": 60,
   "metadata": {},
   "outputs": [],
   "source": [
    "class HangarDataset(Dataset):\n",
    "    \"\"\"\n",
    "    PyTorch Dataset that gives access to hangar dataset\n",
    "    \"\"\"\n",
    "\n",
    "    def __init__(self, data, target):\n",
    "        if len(data) != len(target):\n",
    "            raise RuntimeError(\"Length of data and target does not match\")\n",
    "        self.data = data\n",
    "        self.target = target\n",
    "\n",
    "    def __len__(self):\n",
    "        return len(self.data)\n",
    "\n",
    "    def __getitem__(self, key):\n",
    "        \"\"\"\n",
    "        Since our sample names in hangar repository is str(index),\n",
    "        we can do str(key) to figure out the sample name\n",
    "        \"\"\"\n",
    "        print('----------------------', key)\n",
    "        sample_name = str(key)\n",
    "        return self.data[sample_name], self.target[sample_name]"
   ]
  },
  {
   "cell_type": "code",
   "execution_count": 86,
   "metadata": {},
   "outputs": [
    {
     "name": "stdout",
     "output_type": "stream",
     "text": [
      " * Checking out BRANCH: master with current HEAD: baf680d7e5ff9cd3ebc5ccb18aa87e6344d0d331\n"
     ]
    }
   ],
   "source": [
    "co = repo.checkout()\n",
    "ddset = co.datasets['mnist_data']\n",
    "tdset = co.datasets['mnist_target']\n",
    "hangar_dset = HangarDataset(ddset, tdset)"
   ]
  },
  {
   "cell_type": "code",
   "execution_count": 87,
   "metadata": {},
   "outputs": [
    {
     "name": "stdout",
     "output_type": "stream",
     "text": [
      "---------------------- 66138\n"
     ]
    },
    {
     "data": {
      "text/plain": [
       "(array([[  0,   0,   0,   0,   0,   0,   0,   0,   0,   0,   0,   0,   0,\n",
       "           0,   0,   0,   0,   0,   0,   0,   0,   0,   0,   0,   0,   0,\n",
       "           0,   0],\n",
       "        [  0,   0,   0,   0,   0,   0,   0,   0,   0,   0,   0,   0,   0,\n",
       "           0,   0,   0,   0,   0,   0,   0,   0,   0,   0,   0,   0,   0,\n",
       "           0,   0],\n",
       "        [  0,   0,   0,   0,   0,   0,   0,   0,   0,   0,   0,   0,   0,\n",
       "           0,   0,   0,   0,   0,   0,   0,   0,   0,   0,   0,   0,   0,\n",
       "           0,   0],\n",
       "        [  0,   0,   0,   0,   0,   0,   0,   0,   0,   0,   0,   0,   0,\n",
       "           0,   0,   0,   0,   0,   0,   0,   0,   0,   0,   0,   0,   0,\n",
       "           0,   0],\n",
       "        [  0,   0,   0,   0,   0,   0,   0,   0,   0,   0,   0,   0,   0,\n",
       "           0,   0,   0,   0,   0,   0,   0,   0,   0,   0,   0,   0,   0,\n",
       "           0,   0],\n",
       "        [  0,   0,   0,   0,   0,   0,   0,   0,   0,  29, 216, 253, 153,\n",
       "           0,   0,   0,   0,   0,  45, 229, 253,  13,   0,   0,   0,   0,\n",
       "           0,   0],\n",
       "        [  0,   0,   0,   0,   0,   0,   0,   0,   0, 216, 252, 252, 227,\n",
       "           0,   0,   0,   0,   0, 169, 252, 252, 113,   0,   0,   0,   0,\n",
       "           0,   0],\n",
       "        [  0,   0,   0,   0,   0,   0,   0,   0,  38, 253, 252, 252, 103,\n",
       "           0,   0,   0,   0,  23, 234, 252, 252,  25,   0,   0,   0,   0,\n",
       "           0,   0],\n",
       "        [  0,   0,   0,   0,   0,   0,   0,   0, 163, 253, 252, 177,   3,\n",
       "           0,   0,   0,   0,  79, 252, 252, 252,   0,   0,   0,   0,   0,\n",
       "           0,   0],\n",
       "        [  0,   0,   0,   0,   0,   0,   0,   0, 226, 255, 253, 106,   0,\n",
       "           0,   0,   0,   0, 204, 253, 253, 140,   0,   0,   0,   0,   0,\n",
       "           0,   0],\n",
       "        [  0,   0,   0,   0,   0,   0,   0,  57, 243, 253, 252,  56,   0,\n",
       "           0,   0,   0,   0, 253, 252, 252, 139,   0,   0,   0,   0,   0,\n",
       "           0,   0],\n",
       "        [  0,   0,   0,   0,   0,   0,   0,  85, 252, 253, 208,  13,   0,\n",
       "           0,   0,   0,  38, 253, 252, 224,  43,   0,   0,   0,   0,   0,\n",
       "           0,   0],\n",
       "        [  0,   0,   0,   0,   0,   0,   0, 134, 252, 253,  96,   0,   0,\n",
       "           0,   0,   0, 113, 253, 252, 168,   0,   0,   0,   0,   0,   0,\n",
       "           0,   0],\n",
       "        [  0,   0,   0,   0,   0,   0,  32, 229, 253, 254,  84,   0,   0,\n",
       "           0,   0,  23, 179, 254, 253, 178,  29,   0,   0,   0,   0,   0,\n",
       "           0,   0],\n",
       "        [  0,   0,   0,   0,   0,   0, 131, 252, 252, 253, 196, 169, 169,\n",
       "         169, 169, 234, 252, 253, 252, 252, 252, 169, 144,  13,   0,   0,\n",
       "           0,   0],\n",
       "        [  0,   0,   0,   0,   0,   0, 169, 252, 252, 253, 252, 252, 252,\n",
       "         253, 252, 252, 252, 253, 252, 252, 252, 253, 252, 143,   0,   0,\n",
       "           0,   0],\n",
       "        [  0,   0,   0,   0,   0,   0, 169, 252, 252, 253, 252, 252, 252,\n",
       "         253, 252, 252, 252, 253, 252, 252, 252, 253, 252, 118,   0,   0,\n",
       "           0,   0],\n",
       "        [  0,   0,   0,   0,   0,   0,  76, 113, 213, 226, 225, 225, 225,\n",
       "         114, 138, 247, 253, 254, 247, 137, 113, 114,  88,   0,   0,   0,\n",
       "           0,   0],\n",
       "        [  0,   0,   0,   0,   0,   0,   0,   0,   0,   0,   0,   0,   0,\n",
       "           0,  13, 209, 252, 253, 121,   0,   0,   0,   0,   0,   0,   0,\n",
       "           0,   0],\n",
       "        [  0,   0,   0,   0,   0,   0,   0,   0,   0,   0,   0,   0,   0,\n",
       "           0,  95, 252, 252, 253,  84,   0,   0,   0,   0,   0,   0,   0,\n",
       "           0,   0],\n",
       "        [  0,   0,   0,   0,   0,   0,   0,   0,   0,   0,   0,   0,   0,\n",
       "           0, 169, 252, 252, 253,  84,   0,   0,   0,   0,   0,   0,   0,\n",
       "           0,   0],\n",
       "        [  0,   0,   0,   0,   0,   0,   0,   0,   0,   0,   0,   0,   0,\n",
       "           0, 169, 253, 253, 254,  84,   0,   0,   0,   0,   0,   0,   0,\n",
       "           0,   0],\n",
       "        [  0,   0,   0,   0,   0,   0,   0,   0,   0,   0,   0,   0,   0,\n",
       "           0, 169, 252, 252, 253,  84,   0,   0,   0,   0,   0,   0,   0,\n",
       "           0,   0],\n",
       "        [  0,   0,   0,   0,   0,   0,   0,   0,   0,   0,   0,   0,   0,\n",
       "           0, 169, 252, 252, 253,  84,   0,   0,   0,   0,   0,   0,   0,\n",
       "           0,   0],\n",
       "        [  0,   0,   0,   0,   0,   0,   0,   0,   0,   0,   0,   0,   0,\n",
       "           0,  94, 228, 252, 253,  84,   0,   0,   0,   0,   0,   0,   0,\n",
       "           0,   0],\n",
       "        [  0,   0,   0,   0,   0,   0,   0,   0,   0,   0,   0,   0,   0,\n",
       "           0,   0,   0,   0,   0,   0,   0,   0,   0,   0,   0,   0,   0,\n",
       "           0,   0],\n",
       "        [  0,   0,   0,   0,   0,   0,   0,   0,   0,   0,   0,   0,   0,\n",
       "           0,   0,   0,   0,   0,   0,   0,   0,   0,   0,   0,   0,   0,\n",
       "           0,   0],\n",
       "        [  0,   0,   0,   0,   0,   0,   0,   0,   0,   0,   0,   0,   0,\n",
       "           0,   0,   0,   0,   0,   0,   0,   0,   0,   0,   0,   0,   0,\n",
       "           0,   0]], dtype=uint8), array(4))"
      ]
     },
     "execution_count": 87,
     "metadata": {},
     "output_type": "execute_result"
    }
   ],
   "source": [
    "hangar_dset[66138]"
   ]
  },
  {
   "cell_type": "code",
   "execution_count": 88,
   "metadata": {},
   "outputs": [],
   "source": [
    "hangar_dataloader = DataLoader(hangar_dset, batch_size=4, shuffle=True, num_workers=4)"
   ]
  },
  {
   "cell_type": "markdown",
   "metadata": {},
   "source": [
    "### Training"
   ]
  },
  {
   "cell_type": "code",
   "execution_count": 89,
   "metadata": {},
   "outputs": [
    {
     "name": "stdout",
     "output_type": "stream",
     "text": [
      "---------------------- 45876\n",
      "---------------------- 800\n",
      "---------------------- 69824\n",
      "---------------------- 68207\n",
      "---------------------- 69784\n",
      "---------------------- 43437\n",
      "---------------------- 7750\n",
      "---------------------- 15143\n",
      "---------------------- 66975\n",
      "---------------------- 15138\n",
      "---------------------- 53832\n",
      "---------------------- 41824\n",
      "---------------------- 42444\n",
      "---------------------- 18204\n",
      "---------------------- 65251\n",
      "---------------------- 15195\n",
      "---------------------- 55980\n",
      "---------------------- 27781\n",
      "---------------------- 4217\n",
      "---------------------- 49291\n",
      "---------------------- 4390\n",
      "---------------------- 48573\n",
      "---------------------- 2904\n",
      "---------------------- 19827\n",
      "---------------------- 28933\n",
      "---------------------- 31854\n",
      "---------------------- 47113\n",
      "---------------------- 18744\n",
      "---------------------- 26805\n",
      "---------------------- 46153\n",
      "---------------------- 55059\n",
      "---------------------- 28999\n",
      "---------------------- 22791\n",
      "---------------------- 20405\n",
      "---------------------- 69578\n",
      "---------------------- 59879\n",
      "---------------------- 38043\n",
      "---------------------- 53036\n",
      "---------------------- 2534\n",
      "---------------------- 15327\n",
      "---------------------- 2669\n",
      "---------------------- 65262\n",
      "---------------------- 9678\n",
      "---------------------- 24335\n",
      "---------------------- 37116\n",
      "---------------------- 15430\n",
      "---------------------- 69900\n",
      "---------------------- 46477\n",
      "---------------------- 37958\n",
      "---------------------- 38328\n",
      "---------------------- 24432\n",
      "---------------------- 56714\n",
      "---------------------- 7159\n",
      "---------------------- 68170\n",
      "---------------------- 10888\n",
      "---------------------- 42378\n",
      "torch.Size([4, 28, 28]) torch.Size([4])\n",
      "torch.Size([4, 28, 28]) torch.Size([4])\n",
      "torch.Size([4, 28, 28]) torch.Size([4])\n",
      "torch.Size([4, 28, 28]) torch.Size([4])\n",
      "torch.Size([4, 28, 28]) torch.Size([4])\n",
      "torch.Size([4, 28, 28]) torch.Size([4])\n",
      "torch.Size([4, 28, 28]) torch.Size([4])\n",
      "torch.Size([4, 28, 28]) torch.Size([4])\n",
      "torch.Size([4, 28, 28]) torch.Size([4])\n",
      "---------------------- 43521\n",
      "---------------------- 44894\n",
      "---------------------- 1882\n"
     ]
    },
    {
     "ename": "OSError",
     "evalue": "Traceback (most recent call last):\n  File \"/home/hhsecond/anaconda3/envs/dlblr/lib/python3.7/site-packages/torch/utils/data/_utils/worker.py\", line 99, in _worker_loop\n    samples = collate_fn([dataset[i] for i in batch_indices])\n  File \"/home/hhsecond/anaconda3/envs/dlblr/lib/python3.7/site-packages/torch/utils/data/_utils/worker.py\", line 99, in <listcomp>\n    samples = collate_fn([dataset[i] for i in batch_indices])\n  File \"<ipython-input-60-5f90c7639282>\", line 22, in __getitem__\n    return self.data[sample_name], self.target[sample_name]\n  File \"/home/hhsecond/anaconda3/envs/dlblr/lib/python3.7/site-packages/hangar/dataset.py\", line 118, in __getitem__\n    return self.get(key)\n  File \"/home/hhsecond/anaconda3/envs/dlblr/lib/python3.7/site-packages/hangar/dataset.py\", line 279, in get\n    data = self._fs.read_data(hashVal, self._mode, self._schema_dtype_num)\n  File \"/home/hhsecond/anaconda3/envs/dlblr/lib/python3.7/site-packages/hangar/hdf5_store.py\", line 538, in read_data\n    self.rHands[fSchema][fInstance][dsetCol].read_direct(destArr, srcSlc, destSlc)\n  File \"/home/hhsecond/anaconda3/envs/dlblr/lib/python3.7/site-packages/h5py/_hl/dataset.py\", line 733, in read_direct\n    self.id.read(mspace, fspace, dest, dxpl=self._dxpl)\n  File \"h5py/_objects.pyx\", line 54, in h5py._objects.with_phil.wrapper\n  File \"h5py/_objects.pyx\", line 55, in h5py._objects.with_phil.wrapper\n  File \"h5py/h5d.pyx\", line 181, in h5py.h5d.DatasetID.read\n  File \"h5py/_proxy.pyx\", line 130, in h5py._proxy.dset_rw\n  File \"h5py/_proxy.pyx\", line 84, in h5py._proxy.H5PY_H5Dread\nOSError: Can't read data (data error detected by Fletcher32 checksum)\n",
     "output_type": "error",
     "traceback": [
      "\u001b[0;31m---------------------------------------------------------------------------\u001b[0m",
      "\u001b[0;31mOSError\u001b[0m                                   Traceback (most recent call last)",
      "\u001b[0;32m<ipython-input-89-23a5ae50a17e>\u001b[0m in \u001b[0;36m<module>\u001b[0;34m\u001b[0m\n\u001b[0;32m----> 1\u001b[0;31m \u001b[0;32mfor\u001b[0m \u001b[0mdata\u001b[0m\u001b[0;34m,\u001b[0m \u001b[0mtarget\u001b[0m \u001b[0;32min\u001b[0m \u001b[0mhangar_dataloader\u001b[0m\u001b[0;34m:\u001b[0m\u001b[0;34m\u001b[0m\u001b[0;34m\u001b[0m\u001b[0m\n\u001b[0m\u001b[1;32m      2\u001b[0m     \u001b[0mprint\u001b[0m\u001b[0;34m(\u001b[0m\u001b[0mdata\u001b[0m\u001b[0;34m.\u001b[0m\u001b[0mshape\u001b[0m\u001b[0;34m,\u001b[0m \u001b[0mtarget\u001b[0m\u001b[0;34m.\u001b[0m\u001b[0mshape\u001b[0m\u001b[0;34m)\u001b[0m\u001b[0;34m\u001b[0m\u001b[0;34m\u001b[0m\u001b[0m\n",
      "\u001b[0;32m~/anaconda3/envs/dlblr/lib/python3.7/site-packages/torch/utils/data/dataloader.py\u001b[0m in \u001b[0;36m__next__\u001b[0;34m(self)\u001b[0m\n\u001b[1;32m    580\u001b[0m                 \u001b[0mself\u001b[0m\u001b[0;34m.\u001b[0m\u001b[0mreorder_dict\u001b[0m\u001b[0;34m[\u001b[0m\u001b[0midx\u001b[0m\u001b[0;34m]\u001b[0m \u001b[0;34m=\u001b[0m \u001b[0mbatch\u001b[0m\u001b[0;34m\u001b[0m\u001b[0;34m\u001b[0m\u001b[0m\n\u001b[1;32m    581\u001b[0m                 \u001b[0;32mcontinue\u001b[0m\u001b[0;34m\u001b[0m\u001b[0;34m\u001b[0m\u001b[0m\n\u001b[0;32m--> 582\u001b[0;31m             \u001b[0;32mreturn\u001b[0m \u001b[0mself\u001b[0m\u001b[0;34m.\u001b[0m\u001b[0m_process_next_batch\u001b[0m\u001b[0;34m(\u001b[0m\u001b[0mbatch\u001b[0m\u001b[0;34m)\u001b[0m\u001b[0;34m\u001b[0m\u001b[0;34m\u001b[0m\u001b[0m\n\u001b[0m\u001b[1;32m    583\u001b[0m \u001b[0;34m\u001b[0m\u001b[0m\n\u001b[1;32m    584\u001b[0m     \u001b[0mnext\u001b[0m \u001b[0;34m=\u001b[0m \u001b[0m__next__\u001b[0m  \u001b[0;31m# Python 2 compatibility\u001b[0m\u001b[0;34m\u001b[0m\u001b[0;34m\u001b[0m\u001b[0m\n",
      "\u001b[0;32m~/anaconda3/envs/dlblr/lib/python3.7/site-packages/torch/utils/data/dataloader.py\u001b[0m in \u001b[0;36m_process_next_batch\u001b[0;34m(self, batch)\u001b[0m\n\u001b[1;32m    606\u001b[0m                 \u001b[0;32mraise\u001b[0m \u001b[0mException\u001b[0m\u001b[0;34m(\u001b[0m\u001b[0;34m\"KeyError:\"\u001b[0m \u001b[0;34m+\u001b[0m \u001b[0mbatch\u001b[0m\u001b[0;34m.\u001b[0m\u001b[0mexc_msg\u001b[0m\u001b[0;34m)\u001b[0m\u001b[0;34m\u001b[0m\u001b[0;34m\u001b[0m\u001b[0m\n\u001b[1;32m    607\u001b[0m             \u001b[0;32melse\u001b[0m\u001b[0;34m:\u001b[0m\u001b[0;34m\u001b[0m\u001b[0;34m\u001b[0m\u001b[0m\n\u001b[0;32m--> 608\u001b[0;31m                 \u001b[0;32mraise\u001b[0m \u001b[0mbatch\u001b[0m\u001b[0;34m.\u001b[0m\u001b[0mexc_type\u001b[0m\u001b[0;34m(\u001b[0m\u001b[0mbatch\u001b[0m\u001b[0;34m.\u001b[0m\u001b[0mexc_msg\u001b[0m\u001b[0;34m)\u001b[0m\u001b[0;34m\u001b[0m\u001b[0;34m\u001b[0m\u001b[0m\n\u001b[0m\u001b[1;32m    609\u001b[0m         \u001b[0;32mreturn\u001b[0m \u001b[0mbatch\u001b[0m\u001b[0;34m\u001b[0m\u001b[0;34m\u001b[0m\u001b[0m\n\u001b[1;32m    610\u001b[0m \u001b[0;34m\u001b[0m\u001b[0m\n",
      "\u001b[0;31mOSError\u001b[0m: Traceback (most recent call last):\n  File \"/home/hhsecond/anaconda3/envs/dlblr/lib/python3.7/site-packages/torch/utils/data/_utils/worker.py\", line 99, in _worker_loop\n    samples = collate_fn([dataset[i] for i in batch_indices])\n  File \"/home/hhsecond/anaconda3/envs/dlblr/lib/python3.7/site-packages/torch/utils/data/_utils/worker.py\", line 99, in <listcomp>\n    samples = collate_fn([dataset[i] for i in batch_indices])\n  File \"<ipython-input-60-5f90c7639282>\", line 22, in __getitem__\n    return self.data[sample_name], self.target[sample_name]\n  File \"/home/hhsecond/anaconda3/envs/dlblr/lib/python3.7/site-packages/hangar/dataset.py\", line 118, in __getitem__\n    return self.get(key)\n  File \"/home/hhsecond/anaconda3/envs/dlblr/lib/python3.7/site-packages/hangar/dataset.py\", line 279, in get\n    data = self._fs.read_data(hashVal, self._mode, self._schema_dtype_num)\n  File \"/home/hhsecond/anaconda3/envs/dlblr/lib/python3.7/site-packages/hangar/hdf5_store.py\", line 538, in read_data\n    self.rHands[fSchema][fInstance][dsetCol].read_direct(destArr, srcSlc, destSlc)\n  File \"/home/hhsecond/anaconda3/envs/dlblr/lib/python3.7/site-packages/h5py/_hl/dataset.py\", line 733, in read_direct\n    self.id.read(mspace, fspace, dest, dxpl=self._dxpl)\n  File \"h5py/_objects.pyx\", line 54, in h5py._objects.with_phil.wrapper\n  File \"h5py/_objects.pyx\", line 55, in h5py._objects.with_phil.wrapper\n  File \"h5py/h5d.pyx\", line 181, in h5py.h5d.DatasetID.read\n  File \"h5py/_proxy.pyx\", line 130, in h5py._proxy.dset_rw\n  File \"h5py/_proxy.pyx\", line 84, in h5py._proxy.H5PY_H5Dread\nOSError: Can't read data (data error detected by Fletcher32 checksum)\n"
     ]
    },
    {
     "name": "stdout",
     "output_type": "stream",
     "text": [
      "---------------------- 49775\n",
      "---------------------- 21816\n",
      "---------------------- 31791\n",
      "---------------------- 57339\n",
      "---------------------- 8538\n",
      "---------------------- 18225\n",
      "---------------------- 50376\n",
      "---------------------- 66470\n",
      "---------------------- 46180\n",
      "---------------------- 60069\n",
      "---------------------- 24195\n",
      "---------------------- 6094\n"
     ]
    }
   ],
   "source": [
    "for data, target in hangar_dataloader:\n",
    "    print(data.shape, target.shape)"
   ]
  },
  {
   "cell_type": "code",
   "execution_count": null,
   "metadata": {},
   "outputs": [],
   "source": []
  }
 ],
 "metadata": {
  "colab": {
   "name": "DeepLearningWorkflow.ipynb",
   "provenance": [],
   "version": "0.3.2"
  },
  "kernelspec": {
   "display_name": "Python 3",
   "language": "python",
   "name": "python3"
  },
  "language_info": {
   "codemirror_mode": {
    "name": "ipython",
    "version": 3
   },
   "file_extension": ".py",
   "mimetype": "text/x-python",
   "name": "python",
   "nbconvert_exporter": "python",
   "pygments_lexer": "ipython3",
   "version": "3.7.3"
  }
 },
 "nbformat": 4,
 "nbformat_minor": 1
}
