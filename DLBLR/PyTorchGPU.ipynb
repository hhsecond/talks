{
  "nbformat": 4,
  "nbformat_minor": 0,
  "metadata": {
    "colab": {
      "name": "PyTorchGPU.ipynb",
      "version": "0.3.2",
      "views": {},
      "default_view": {},
      "provenance": []
    },
    "kernelspec": {
      "name": "python3",
      "display_name": "Python 3"
    },
    "accelerator": "GPU"
  },
  "cells": [
    {
      "metadata": {
        "id": "3LevbY_7nqNW",
        "colab_type": "code",
        "colab": {
          "autoexec": {
            "startup": false,
            "wait_interval": 0
          },
          "output_extras": [
            {}
          ],
          "base_uri": "https://localhost:8080/",
          "height": 288
        },
        "outputId": "43516f7d-dba3-4c20-c095-c6c45a3ac2ee",
        "executionInfo": {
          "status": "error",
          "timestamp": 1521854914624,
          "user_tz": -330,
          "elapsed": 1116,
          "user": {
            "displayName": "Sherin Thomas",
            "photoUrl": "//lh4.googleusercontent.com/-xdIL-rwXTZM/AAAAAAAAAAI/AAAAAAAAA7c/4idLRYpTRWA/s50-c-k-no/photo.jpg",
            "userId": "104577994096367997905"
          }
        }
      },
      "cell_type": "code",
      "source": [
        "import torch"
      ],
      "execution_count": 0,
      "outputs": [
        {
          "output_type": "error",
          "ename": "ModuleNotFoundError",
          "evalue": "ignored",
          "traceback": [
            "\u001b[0;31m---------------------------------------------------------------------------\u001b[0m",
            "\u001b[0;31mModuleNotFoundError\u001b[0m                       Traceback (most recent call last)",
            "\u001b[0;32m<ipython-input-1-eb42ca6e4af3>\u001b[0m in \u001b[0;36m<module>\u001b[0;34m()\u001b[0m\n\u001b[0;32m----> 1\u001b[0;31m \u001b[0;32mimport\u001b[0m \u001b[0mtorch\u001b[0m\u001b[0;34m\u001b[0m\u001b[0m\n\u001b[0m",
            "\u001b[0;31mModuleNotFoundError\u001b[0m: No module named 'torch'",
            "",
            "\u001b[0;31m---------------------------------------------------------------------------\u001b[0;32m\nNOTE: If your import is failing due to a missing package, you can\nmanually install dependencies using either !pip or !apt.\n\nTo install torch, click the button below.\n\u001b[0;31m---------------------------------------------------------------------------\u001b[0m\n"
          ]
        }
      ]
    },
    {
      "metadata": {
        "id": "7pNBiIxBn2RK",
        "colab_type": "code",
        "colab": {
          "autoexec": {
            "startup": false,
            "wait_interval": 0
          }
        }
      },
      "cell_type": "code",
      "source": [
        "# http://pytorch.org/\n",
        "from os import path\n",
        "from wheel.pep425tags import get_abbr_impl, get_impl_ver, get_abi_tag\n",
        "platform = '{}{}-{}'.format(get_abbr_impl(), get_impl_ver(), get_abi_tag())\n",
        "\n",
        "accelerator = 'cu80' if path.exists('/opt/bin/nvidia-smi') else 'cpu'\n",
        "\n",
        "!pip install -q http://download.pytorch.org/whl/{accelerator}/torch-0.3.0.post4-{platform}-linux_x86_64.whl torchvision\n",
        "import torch"
      ],
      "execution_count": 0,
      "outputs": []
    },
    {
      "metadata": {
        "id": "oZvJIA5Rn_Iu",
        "colab_type": "code",
        "colab": {
          "autoexec": {
            "startup": false,
            "wait_interval": 0
          },
          "output_extras": [
            {}
          ],
          "base_uri": "https://localhost:8080/",
          "height": 34
        },
        "outputId": "a0ded178-6f66-4953-b7c4-9f542be2ed74",
        "executionInfo": {
          "status": "ok",
          "timestamp": 1521855213230,
          "user_tz": -330,
          "elapsed": 790,
          "user": {
            "displayName": "Sherin Thomas",
            "photoUrl": "//lh4.googleusercontent.com/-xdIL-rwXTZM/AAAAAAAAAAI/AAAAAAAAA7c/4idLRYpTRWA/s50-c-k-no/photo.jpg",
            "userId": "104577994096367997905"
          }
        }
      },
      "cell_type": "code",
      "source": [
        "torch.cuda.is_available()"
      ],
      "execution_count": 0,
      "outputs": [
        {
          "output_type": "execute_result",
          "data": {
            "text/plain": [
              "True"
            ]
          },
          "metadata": {
            "tags": []
          },
          "execution_count": 4
        }
      ]
    },
    {
      "metadata": {
        "id": "l3kN_xqfopJG",
        "colab_type": "code",
        "colab": {
          "autoexec": {
            "startup": false,
            "wait_interval": 0
          }
        }
      },
      "cell_type": "code",
      "source": [
        "import torch\n",
        "from torch.autograd import Variable\n"
      ],
      "execution_count": 0,
      "outputs": []
    },
    {
      "metadata": {
        "id": "DZyUGLlEpEle",
        "colab_type": "code",
        "colab": {
          "autoexec": {
            "startup": false,
            "wait_interval": 0
          }
        }
      },
      "cell_type": "code",
      "source": [
        "a = Variable(torch.cuda.FloatTensor([2, 3]))\n",
        "b = Variable(torch.cuda.FloatTensor([4, 3]))\n",
        "\n"
      ],
      "execution_count": 0,
      "outputs": []
    },
    {
      "metadata": {
        "id": "M7erjx3epSE8",
        "colab_type": "code",
        "colab": {
          "autoexec": {
            "startup": false,
            "wait_interval": 0
          },
          "output_extras": [
            {}
          ],
          "base_uri": "https://localhost:8080/",
          "height": 86
        },
        "outputId": "92d28841-7163-4433-a836-c49e23ec2af4",
        "executionInfo": {
          "status": "ok",
          "timestamp": 1521855347802,
          "user_tz": -330,
          "elapsed": 840,
          "user": {
            "displayName": "Sherin Thomas",
            "photoUrl": "//lh4.googleusercontent.com/-xdIL-rwXTZM/AAAAAAAAAAI/AAAAAAAAA7c/4idLRYpTRWA/s50-c-k-no/photo.jpg",
            "userId": "104577994096367997905"
          }
        }
      },
      "cell_type": "code",
      "source": [
        "a + b"
      ],
      "execution_count": 0,
      "outputs": [
        {
          "output_type": "execute_result",
          "data": {
            "text/plain": [
              "Variable containing:\n",
              " 6\n",
              " 6\n",
              "[torch.cuda.FloatTensor of size 2 (GPU 0)]"
            ]
          },
          "metadata": {
            "tags": []
          },
          "execution_count": 10
        }
      ]
    },
    {
      "metadata": {
        "id": "qhe2pI_QpUKg",
        "colab_type": "code",
        "colab": {
          "autoexec": {
            "startup": false,
            "wait_interval": 0
          }
        }
      },
      "cell_type": "code",
      "source": [
        "import torch.nn.functional as F\n",
        "class Model(torch.nn.Module):\n",
        "  def __init__(self):\n",
        "    super().__init__()\n",
        "    self.fc1 = torch.nn.Linear(2,3)\n",
        "    self.fc2 = torch.nn.Linear(3, 1)\n",
        "  \n",
        "  def forward(self, batch):\n",
        "    a = self.fc1(batch)\n",
        "    sig_a = F.sigmoid(a)\n",
        "    out = self.fc2(sig_a)\n",
        "    return F.sigmoid(out)"
      ],
      "execution_count": 0,
      "outputs": []
    },
    {
      "metadata": {
        "id": "oFXxXPNXqG0O",
        "colab_type": "code",
        "colab": {
          "autoexec": {
            "startup": false,
            "wait_interval": 0
          }
        }
      },
      "cell_type": "code",
      "source": [
        "net = Model()\n"
      ],
      "execution_count": 0,
      "outputs": []
    },
    {
      "metadata": {
        "id": "81WjVrXtqSPA",
        "colab_type": "code",
        "colab": {
          "autoexec": {
            "startup": false,
            "wait_interval": 0
          }
        }
      },
      "cell_type": "code",
      "source": [
        "cudanet = net.cuda()"
      ],
      "execution_count": 0,
      "outputs": []
    },
    {
      "metadata": {
        "id": "yQdgatwbqW_4",
        "colab_type": "code",
        "colab": {
          "autoexec": {
            "startup": false,
            "wait_interval": 0
          },
          "output_extras": [
            {}
          ],
          "base_uri": "https://localhost:8080/",
          "height": 86
        },
        "outputId": "330b803e-bfea-4394-e6a2-ba63a04ae8c8",
        "executionInfo": {
          "status": "ok",
          "timestamp": 1521855607358,
          "user_tz": -330,
          "elapsed": 692,
          "user": {
            "displayName": "Sherin Thomas",
            "photoUrl": "//lh4.googleusercontent.com/-xdIL-rwXTZM/AAAAAAAAAAI/AAAAAAAAA7c/4idLRYpTRWA/s50-c-k-no/photo.jpg",
            "userId": "104577994096367997905"
          }
        }
      },
      "cell_type": "code",
      "source": [
        "cudanet"
      ],
      "execution_count": 0,
      "outputs": [
        {
          "output_type": "execute_result",
          "data": {
            "text/plain": [
              "Model(\n",
              "  (fc1): Linear(in_features=2, out_features=3)\n",
              "  (fc2): Linear(in_features=3, out_features=1)\n",
              ")"
            ]
          },
          "metadata": {
            "tags": []
          },
          "execution_count": 18
        }
      ]
    },
    {
      "metadata": {
        "id": "IB-83Oucqa62",
        "colab_type": "code",
        "colab": {
          "autoexec": {
            "startup": false,
            "wait_interval": 0
          },
          "output_extras": [
            {}
          ],
          "base_uri": "https://localhost:8080/",
          "height": 139
        },
        "outputId": "9391efd0-1abb-4dc7-cb7e-94ccd596ab46",
        "executionInfo": {
          "status": "ok",
          "timestamp": 1521855666090,
          "user_tz": -330,
          "elapsed": 770,
          "user": {
            "displayName": "Sherin Thomas",
            "photoUrl": "//lh4.googleusercontent.com/-xdIL-rwXTZM/AAAAAAAAAAI/AAAAAAAAA7c/4idLRYpTRWA/s50-c-k-no/photo.jpg",
            "userId": "104577994096367997905"
          }
        }
      },
      "cell_type": "code",
      "source": [
        "x = Variable(torch.randn(5, 2).cuda())\n",
        "cudanet(x)"
      ],
      "execution_count": 0,
      "outputs": [
        {
          "output_type": "execute_result",
          "data": {
            "text/plain": [
              "Variable containing:\n",
              " 0.5742\n",
              " 0.5688\n",
              " 0.5744\n",
              " 0.5749\n",
              " 0.5705\n",
              "[torch.cuda.FloatTensor of size 5x1 (GPU 0)]"
            ]
          },
          "metadata": {
            "tags": []
          },
          "execution_count": 20
        }
      ]
    },
    {
      "metadata": {
        "id": "Pm9LUORpqlzO",
        "colab_type": "code",
        "colab": {
          "autoexec": {
            "startup": false,
            "wait_interval": 0
          },
          "output_extras": [
            {
              "item_id": 1
            }
          ],
          "base_uri": "https://localhost:8080/",
          "height": 34
        },
        "outputId": "81a26bc4-e3ae-4563-eded-0b1a0f8b6af6",
        "executionInfo": {
          "status": "ok",
          "timestamp": 1521855769388,
          "user_tz": -330,
          "elapsed": 1078,
          "user": {
            "displayName": "",
            "photoUrl": "",
            "userId": ""
          }
        }
      },
      "cell_type": "code",
      "source": [
        "torch.cuda.is_available()"
      ],
      "execution_count": 21,
      "outputs": [
        {
          "output_type": "execute_result",
          "data": {
            "text/plain": [
              "True"
            ]
          },
          "metadata": {
            "tags": []
          },
          "execution_count": 21
        }
      ]
    },
    {
      "metadata": {
        "id": "BMeN-4wArBNm",
        "colab_type": "code",
        "colab": {
          "autoexec": {
            "startup": false,
            "wait_interval": 0
          }
        }
      },
      "cell_type": "code",
      "source": [
        ""
      ],
      "execution_count": 0,
      "outputs": []
    }
  ]
}